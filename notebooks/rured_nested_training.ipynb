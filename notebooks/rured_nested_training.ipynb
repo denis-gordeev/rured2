{
 "cells": [
  {
   "cell_type": "markdown",
   "metadata": {
    "id": "IBxEaEWdPq_s"
   },
   "source": [
    "# TODO\n",
    "\n",
    "\n",
    "1.   Натренировать Relation Extraction\n",
    "2.   Добавить early_stopping\n",
    "3.   Save-n models\n",
    "5.   Совместить с NEREL\n",
    "\n",
    "# DONE"
   ]
  },
  {
   "cell_type": "code",
   "execution_count": 1,
   "metadata": {
    "colab": {
     "base_uri": "https://localhost:8080/"
    },
    "id": "Jwn0GZkLOiPR",
    "outputId": "de69068a-1a48-476f-f4f3-d6b9ca0a23a6"
   },
   "outputs": [
    {
     "name": "stdout",
     "output_type": "stream",
     "text": [
      "\u001b[0m\u001b[01;32mMiniconda3-latest-Linux-x86_64.sh\u001b[0m*  \u001b[01;34mmultilabel_ner\u001b[0m/\n",
      "\u001b[01;34mbert_rured_training\u001b[0m/                onstart.sh\n",
      "\u001b[01;31mbert_rured_training.zip\u001b[0m             pip.log\n",
      "hasbooted                           \u001b[01;34mrured2\u001b[0m/\n",
      "id_to_label.json                    rured_nested_training.ipynb\n",
      "\u001b[01;34mminiconda3\u001b[0m/\n"
     ]
    }
   ],
   "source": [
    "ls"
   ]
  },
  {
   "cell_type": "code",
   "execution_count": 2,
   "metadata": {},
   "outputs": [
    {
     "name": "stdout",
     "output_type": "stream",
     "text": [
      "Reading package lists... Done\n",
      "Building dependency tree       \n",
      "Reading state information... Done\n",
      "zip is already the newest version (3.0-11build1).\n",
      "0 upgraded, 0 newly installed, 0 to remove and 10 not upgraded.\n"
     ]
    }
   ],
   "source": [
    "!apt install zip -y"
   ]
  },
  {
   "cell_type": "code",
   "execution_count": 3,
   "metadata": {
    "colab": {
     "base_uri": "https://localhost:8080/"
    },
    "id": "lS8qiq77LP3O",
    "outputId": "36ff8a26-2d50-4e2e-a107-dee8d2f6b6b2"
   },
   "outputs": [
    {
     "name": "stdout",
     "output_type": "stream",
     "text": [
      "fatal: destination path 'rured2' already exists and is not an empty directory.\n"
     ]
    }
   ],
   "source": [
    "!git clone https://github.com/denis-gordeev/rured2"
   ]
  },
  {
   "cell_type": "code",
   "execution_count": 4,
   "metadata": {
    "colab": {
     "base_uri": "https://localhost:8080/"
    },
    "id": "ebMS6YH3hWDm",
    "outputId": "720ceae3-7546-4c33-b47e-11200ce385d0"
   },
   "outputs": [
    {
     "name": "stdout",
     "output_type": "stream",
     "text": [
      "Tue Nov 14 21:00:57 2023       \n",
      "+---------------------------------------------------------------------------------------+\n",
      "| NVIDIA-SMI 535.104.12             Driver Version: 535.104.12   CUDA Version: 12.2     |\n",
      "|-----------------------------------------+----------------------+----------------------+\n",
      "| GPU  Name                 Persistence-M | Bus-Id        Disp.A | Volatile Uncorr. ECC |\n",
      "| Fan  Temp   Perf          Pwr:Usage/Cap |         Memory-Usage | GPU-Util  Compute M. |\n",
      "|                                         |                      |               MIG M. |\n",
      "|=========================================+======================+======================|\n",
      "|   0  NVIDIA GeForce RTX 3080        On  | 00000000:42:00.0 Off |                  N/A |\n",
      "|  0%   32C    P8              23W / 370W |      2MiB / 10240MiB |      0%      Default |\n",
      "|                                         |                      |                  N/A |\n",
      "+-----------------------------------------+----------------------+----------------------+\n",
      "                                                                                         \n",
      "+---------------------------------------------------------------------------------------+\n",
      "| Processes:                                                                            |\n",
      "|  GPU   GI   CI        PID   Type   Process name                            GPU Memory |\n",
      "|        ID   ID                                                             Usage      |\n",
      "|=======================================================================================|\n",
      "|  No running processes found                                                           |\n",
      "+---------------------------------------------------------------------------------------+\n"
     ]
    }
   ],
   "source": [
    "!nvidia-smi"
   ]
  },
  {
   "cell_type": "code",
   "execution_count": 5,
   "metadata": {
    "id": "Ozu91kf_PvsW"
   },
   "outputs": [
    {
     "name": "stdout",
     "output_type": "stream",
     "text": [
      "\u001b[33mWARNING: Running pip as the 'root' user can result in broken permissions and conflicting behaviour with the system package manager. It is recommended to use a virtual environment instead: https://pip.pypa.io/warnings/venv\u001b[0m\u001b[33m\n",
      "\u001b[0m\u001b[33mWARNING: Running pip as the 'root' user can result in broken permissions and conflicting behaviour with the system package manager. It is recommended to use a virtual environment instead: https://pip.pypa.io/warnings/venv\u001b[0m\u001b[33m\n",
      "\u001b[0m\u001b[33mWARNING: Running pip as the 'root' user can result in broken permissions and conflicting behaviour with the system package manager. It is recommended to use a virtual environment instead: https://pip.pypa.io/warnings/venv\u001b[0m\u001b[33m\n",
      "\u001b[0m\u001b[33mWARNING: Running pip as the 'root' user can result in broken permissions and conflicting behaviour with the system package manager. It is recommended to use a virtual environment instead: https://pip.pypa.io/warnings/venv\u001b[0m\u001b[33m\n",
      "\u001b[0m\u001b[33mWARNING: Running pip as the 'root' user can result in broken permissions and conflicting behaviour with the system package manager. It is recommended to use a virtual environment instead: https://pip.pypa.io/warnings/venv\u001b[0m\u001b[33m\n",
      "\u001b[0m\u001b[33mWARNING: Running pip as the 'root' user can result in broken permissions and conflicting behaviour with the system package manager. It is recommended to use a virtual environment instead: https://pip.pypa.io/warnings/venv\u001b[0m\u001b[33m\n",
      "\u001b[0m\u001b[33mWARNING: Running pip as the 'root' user can result in broken permissions and conflicting behaviour with the system package manager. It is recommended to use a virtual environment instead: https://pip.pypa.io/warnings/venv\u001b[0m\u001b[33m\n",
      "\u001b[0m\u001b[33mWARNING: Running pip as the 'root' user can result in broken permissions and conflicting behaviour with the system package manager. It is recommended to use a virtual environment instead: https://pip.pypa.io/warnings/venv\u001b[0m\u001b[33m\n",
      "\u001b[0m\u001b[33mWARNING: Running pip as the 'root' user can result in broken permissions and conflicting behaviour with the system package manager. It is recommended to use a virtual environment instead: https://pip.pypa.io/warnings/venv\u001b[0m\u001b[33m\n",
      "\u001b[0m\u001b[33mWARNING: Running pip as the 'root' user can result in broken permissions and conflicting behaviour with the system package manager. It is recommended to use a virtual environment instead: https://pip.pypa.io/warnings/venv\u001b[0m\u001b[33m\n",
      "\u001b[0m"
     ]
    }
   ],
   "source": [
    "!pip install torch >> ./pip.log\n",
    "!pip install razdel==0.5.0 >> ./pip.log\n",
    "!pip install seqeval==1.2.2 >> ./pip.log\n",
    "!pip install datasets==2.2.2 >> ./pip.log\n",
    "!pip install fire==0.4.0 >> ./pip.log\n",
    "!pip install boto3==1.24.6 >> ./pip.log\n",
    "!pip install transformers[torch] >> ./pip.log\n",
    "!pip install sentencepiece >> ./pip.log\n",
    "!pip install protobuf >> ./pip.log\n",
    "!pip install accelerate -U >> ./pip.log"
   ]
  },
  {
   "cell_type": "code",
   "execution_count": 6,
   "metadata": {
    "colab": {
     "base_uri": "https://localhost:8080/"
    },
    "id": "aWLCsEylL0n3",
    "outputId": "af0f4e19-e90b-45dd-efb9-3c4f8596ddae"
   },
   "outputs": [
    {
     "name": "stdout",
     "output_type": "stream",
     "text": [
      "101144.ann\n",
      "101144.txt\n",
      "102083.ann\n",
      "102083.txt\n",
      "10223.ann\n",
      "10223.txt\n",
      "104927.ann\n",
      "104927.txt\n",
      "11035.ann\n",
      "11035.txt\n",
      "ls: write error: Broken pipe\n",
      "Total 2304 files\n"
     ]
    }
   ],
   "source": [
    "!ls rured2/data/annotation_files | head\n",
    "!echo \"Total $(ls rured2/data/annotation_files | wc -l) files\""
   ]
  },
  {
   "cell_type": "code",
   "execution_count": 7,
   "metadata": {
    "id": "zVevdf3q4DFa"
   },
   "outputs": [],
   "source": [
    "from glob import glob\n",
    "import shutil"
   ]
  },
  {
   "cell_type": "code",
   "execution_count": 8,
   "metadata": {
    "id": "cI7mnKEw36wk"
   },
   "outputs": [],
   "source": [
    "# I have mixed automatically and manually labelled files here\n",
    "# Currently only manually annotated files contain relations\n",
    "ann_files = glob(\"rured2/data/rbc/*/*.ann\")\n",
    "for ann_file in ann_files:\n",
    "    with open(ann_file) as f:\n",
    "        annotation = f.readlines()\n",
    "    if not any(l.startswith(\"R\") for l in annotation):\n",
    "        continue\n",
    "    txt_file = ann_file.replace(\".ann\", \".txt\")\n",
    "    shutil.copy(ann_file, \"rured2/data/annotation_files/\")\n",
    "    shutil.copy(txt_file, \"rured2/data/annotation_files/\")"
   ]
  },
  {
   "cell_type": "code",
   "execution_count": 9,
   "metadata": {
    "colab": {
     "base_uri": "https://localhost:8080/"
    },
    "id": "hqECNYDB9dif",
    "outputId": "3207cabe-a98d-426d-cde8-b6927c808e04"
   },
   "outputs": [
    {
     "name": "stdout",
     "output_type": "stream",
     "text": [
      "101144.ann\n",
      "101144.txt\n",
      "102083.ann\n",
      "102083.txt\n",
      "10223.ann\n",
      "10223.txt\n",
      "104927.ann\n",
      "104927.txt\n",
      "11035.ann\n",
      "11035.txt\n",
      "ls: write error: Broken pipe\n",
      "Total 2304 files\n"
     ]
    }
   ],
   "source": [
    "!ls rured2/data/annotation_files | head\n",
    "!echo \"Total $(ls rured2/data/annotation_files | wc -l) files\""
   ]
  },
  {
   "cell_type": "code",
   "execution_count": 10,
   "metadata": {
    "id": "5kgUv7clH36Z"
   },
   "outputs": [],
   "source": [
    "# !git clone --recurse-submodules https://github.com/denis-gordeev/rured/"
   ]
  },
  {
   "cell_type": "code",
   "execution_count": 11,
   "metadata": {
    "id": "bUuuylxrI92I"
   },
   "outputs": [],
   "source": [
    "# ls ./rured/SpanBERT/"
   ]
  },
  {
   "cell_type": "code",
   "execution_count": 12,
   "metadata": {
    "id": "ne9kO0qgJdSL"
   },
   "outputs": [],
   "source": [
    "# !python ./rured/convert_brat_to_tacred.py \"rured2/data/annotation_files/*.ann\""
   ]
  },
  {
   "cell_type": "code",
   "execution_count": 13,
   "metadata": {
    "id": "AFpkJtfjJg-I"
   },
   "outputs": [],
   "source": [
    "# ls -lah all_data.json"
   ]
  },
  {
   "cell_type": "code",
   "execution_count": 14,
   "metadata": {
    "id": "hNasZU6VpAW3"
   },
   "outputs": [],
   "source": [
    "from glob import glob\n",
    "from typing import Dict, List, Optional\n",
    "\n",
    "import pandas as pd\n",
    "from sklearn.model_selection import train_test_split\n",
    "import razdel\n",
    "import torch\n",
    "from torch import nn\n",
    "from sklearn.metrics import accuracy_score, f1_score, roc_auc_score, top_k_accuracy_score, recall_score, precision_score\n",
    "\n",
    "from datasets import Dataset\n",
    "from transformers import (AutoTokenizer, AutoModelForTokenClassification, \n",
    "                          TrainingArguments, Trainer)\n",
    "from transformers import EarlyStoppingCallback"
   ]
  },
  {
   "cell_type": "code",
   "execution_count": 15,
   "metadata": {
    "id": "Ek1TM7Na981B"
   },
   "outputs": [],
   "source": [
    "# model_ckpt = \"cointegrated/rubert-tiny2\"\n",
    "# model_ckpt = \"yandex/RuLeanALBERT\"\n",
    "# model_ckpt = \"xlm-roberta-base\"\n",
    "# model_ckpt = \"bert-base-multilingual-cased\"\n",
    "# model_ckpt = \"google/flan-t5-base\"\n",
    "model_ckpt = \"microsoft/mdeberta-v3-base\""
   ]
  },
  {
   "cell_type": "code",
   "execution_count": 16,
   "metadata": {
    "id": "8tW73qWlrm3z"
   },
   "outputs": [],
   "source": [
    "def check_pair_in_range(start: int, end: int, check_range: range) -> bool:\n",
    "    if range(max(start, check_range.start), min(end, check_range.stop)):\n",
    "        return True\n",
    "    else:\n",
    "        return False\n",
    "\n",
    "def get_annotation_from_file(\n",
    "    annotation_filename: str, with_relations_only: bool = False\n",
    ") -> List[dict]:\n",
    "    with open(annotation_filename) as f:\n",
    "        annotation_str: str = f.read()\n",
    "    annotation_values: List[dict] = []\n",
    "    if with_relations_only and \"Arg1:\" not in annotation_str:\n",
    "        return []\n",
    "    annotation: List = annotation_str.split(\"\\n\")\n",
    "    annotation = [a.strip() for a in annotation]\n",
    "    annotation = [a for a in annotation if a]\n",
    "    annotation = [a.split(\"\\t\") for a in annotation]\n",
    "    annotation_entries: dict = dict()\n",
    "    ners = [a for a in annotation if a[0][0] == \"T\"]\n",
    "    relations = [a for a in annotation if a[0][0] == \"R\"]\n",
    "    annotation = ners + relations\n",
    "    for a in annotation:\n",
    "        # error annotations\n",
    "        # TODO fix\n",
    "        if len(a) < 2:\n",
    "            continue\n",
    "        annotation_entry: dict = dict()\n",
    "        if a[0].startswith(\"T\"):\n",
    "            annotation_type = \"NER\"\n",
    "        elif a[0].startswith(\"R\"):\n",
    "            annotation_type = \"Relation\"\n",
    "        else:\n",
    "            annotation_type = \"Unknown\"\n",
    "        annotation_entry[\"type\"] = annotation_type\n",
    "        annotation_entry[\"code\"] = annotation_code = a[0]\n",
    "\n",
    "        annotation_body = a[1]\n",
    "        annotation_body = annotation_body.replace(\"Arg1:\", \"\").replace(\n",
    "            \"Arg2:\", \"\"\n",
    "        )\n",
    "        annotation_body = annotation_body.split()\n",
    "        annotation_entry[\"ann_type\"] = annotation_body[0]\n",
    "        if annotation_type == \"NER\":\n",
    "            if len(a) <= 2:\n",
    "                continue\n",
    "            annotation_entry[\"start\"] = int(annotation_body[1])\n",
    "            annotation_entry[\"end\"] = int(annotation_body[2])\n",
    "            annotation_entry[\"text\"] = a[2]\n",
    "        else:\n",
    "            for item_id, _ in enumerate((\"subj\", \"obj\")):\n",
    "                item_id += 1\n",
    "                for position in (\"start\", \"end\"):\n",
    "                    annotation_entry[\n",
    "                        f\"{item_id}_{position}\"\n",
    "                    ] = annotation_entries[annotation_body[item_id]][position]\n",
    "            annotation_entry[\"subj_ref\"] = annotation_body[1]\n",
    "            annotation_entry[\"obj_ref\"] = annotation_body[2]\n",
    "        annotation_entries[annotation_code] = annotation_entry\n",
    "    annotation_values = list(annotation_entries.values())\n",
    "    return annotation_values\n",
    "\n",
    "def tokenize_and_align_labels(example, text_column_name=\"text\", label_column_name=\"ner\", padding=True, label_all_tokens=True, max_seq_length=512):\n",
    "    # https://github.com/huggingface/transformers/blob/main/examples/pytorch/token-classification/run_ner.py#L421\n",
    "    texts = example[text_column_name]\n",
    "    if type(sents_df[\"text\"]) == pd.core.series.Series:\n",
    "        texts = list(texts.values)\n",
    "    tokenized_inputs = tokenizer(\n",
    "        texts,\n",
    "        padding=padding,\n",
    "        truncation=True,\n",
    "        max_length=max_seq_length,\n",
    "        # We use this argument because the texts in our dataset are lists of words (with a label for each word).\n",
    "        is_split_into_words=True,\n",
    "    )\n",
    "    labels = []\n",
    "    for i, label in enumerate(example[label_column_name]):\n",
    "        word_ids = tokenized_inputs.word_ids(batch_index=i)\n",
    "        previous_word_idx = None\n",
    "        label_ids = []\n",
    "        for word_idx in word_ids:\n",
    "            # Special tokens have a word id that is None. We set the label to -100 so they are automatically\n",
    "            # ignored in the loss function.\n",
    "            new_label = [0] * len(id_to_label)\n",
    "            if word_idx is None:\n",
    "                label_ids.append(new_label)\n",
    "            # We set the label for the first token of each word.\n",
    "            elif word_idx != previous_word_idx:\n",
    "                for ner in label[word_idx]:\n",
    "                    new_label[label_to_id[ner]] = 1\n",
    "                label_ids.append(new_label)\n",
    "            # For the other tokens in a word, we set the label to either the current label or -100, depending on\n",
    "            # the label_all_tokens flag.\n",
    "            else:\n",
    "                if label_all_tokens:\n",
    "                    label_ids.append(b_to_i_label[label_to_id[label[word_idx]]])\n",
    "                else:\n",
    "                    label_ids.append(new_label)\n",
    "            previous_word_idx = word_idx\n",
    "\n",
    "        labels.append(label_ids)\n",
    "    tokenized_inputs[\"labels\"] = labels\n",
    "    return tokenized_inputs"
   ]
  },
  {
   "cell_type": "code",
   "execution_count": 17,
   "metadata": {
    "id": "YnyJoLdln3p3"
   },
   "outputs": [],
   "source": [
    "# def create_ner_dataset(glob_path=\"rured2/data/annotation_files/*.ann\"):\n",
    "    \n",
    "glob_path=\"rured2/data/annotation_files/*.ann\"\n",
    "filenames = glob(glob_path)\n",
    "text_data = dict()\n",
    "for annotation_filename in filenames:\n",
    "    text_filename = annotation_filename.replace(\".ann\", \".txt\")\n",
    "    annotation_values = get_annotation_from_file(annotation_filename)\n",
    "    with open(text_filename) as f:\n",
    "        text = f.read()\n",
    "    sents = list(razdel.sentenize(text))\n",
    "    prev_sent = None\n",
    "    text_data[annotation_filename] = []\n",
    "    attach_flag = False\n",
    "    for sent in sents:\n",
    "        if attach_flag and prev_sent:\n",
    "            sent.text = prev_sent.text + \" \" + sent.text\n",
    "            sent.start = prev_sent.start\n",
    "            attach_flag = False\n",
    "            prev_sent = None\n",
    "        sent_tokens = list(razdel.tokenize(sent.text))\n",
    "        sent_ners = [[\"O\"] for t in sent_tokens]\n",
    "        # sent_brat_codes = [[\"O\"] for t in sent_tokens]\n",
    "        sent_data: Dict = dict()\n",
    "        sent_data[\"token\"] = [t.text for t in sent_tokens]\n",
    "        sent_data[\"text\"] = sent.text\n",
    "        # sent_data[\"relation\"] = False\n",
    "        # sent_data[\"relations\"] = []\n",
    "        for _, value in enumerate(annotation_values):\n",
    "            annotation_code = value[\"code\"]\n",
    "            if value[\"type\"] == \"NER\":\n",
    "                start = value[\"start\"]\n",
    "                end = value[\"end\"]\n",
    "                ner_text = value[\"text\"]\n",
    "                ner_type = value[\"ann_type\"]\n",
    "                overlaps = check_pair_in_range(\n",
    "                    start, end, range(sent.start, sent.stop)\n",
    "                )\n",
    "                if overlaps:\n",
    "                    for s_t_i, s_t in enumerate(sent_tokens):\n",
    "                        token_overlaps = check_pair_in_range(\n",
    "                            start,\n",
    "                            end,\n",
    "                            range(\n",
    "                                s_t.start + sent.start,\n",
    "                                s_t.stop + sent.start,\n",
    "                            ),\n",
    "                        )\n",
    "                        if token_overlaps:\n",
    "                            if sent_ners[s_t_i] == ['O']:\n",
    "                                sent_ners[s_t_i] = []\n",
    "                            if ner_text.startswith(s_t.text):\n",
    "                                sent_ners[s_t_i].append(\"B-\" + ner_type)\n",
    "                            else:\n",
    "                                sent_ners[s_t_i].append(\"I-\" + ner_type)\n",
    "\n",
    "        sent_data[\"stanford_ner\"] = sent_ners\n",
    "        # sent_data[\"brat_codes\"] = sent_brat_codes\n",
    "        sent_data[\"start\"] = sent.start\n",
    "        sent_data[\"stop\"] = sent.stop\n",
    "        # all_data.append(sent_data)\n",
    "        text_data[annotation_filename].append(sent_data)"
   ]
  },
  {
   "cell_type": "code",
   "execution_count": 18,
   "metadata": {
    "id": "UWu86IBSqsdv"
   },
   "outputs": [],
   "source": [
    "sents = []\n",
    "for filename, text in text_data.items():\n",
    "    for sent in text:\n",
    "        sent[\"filename\"] = filename\n",
    "        sents.append(sent)"
   ]
  },
  {
   "cell_type": "code",
   "execution_count": 19,
   "metadata": {
    "colab": {
     "base_uri": "https://localhost:8080/"
    },
    "id": "_DIrX_Z8wSQA",
    "outputId": "89dc75b2-07ff-435e-c432-9ac2dd7c6693"
   },
   "outputs": [
    {
     "name": "stdout",
     "output_type": "stream",
     "text": [
      "{0: 'O', 1: 'B-PERSON', 2: 'B-NORP', 3: 'B-COMMODITY', 4: 'B-DATE', 5: 'I-DATE', 6: 'B-COUNTRY', 7: 'B-ECONOMIC_SECTOR', 8: 'I-ECONOMIC_SECTOR', 9: 'B-NEWS_SOURCE', 10: 'B-PROFESSION', 11: 'I-NEWS_SOURCE', 12: 'I-PERSON', 13: 'B-ORGANIZATION', 14: 'I-PROFESSION', 15: 'B-EVENT', 16: 'B-CITY', 17: 'B-GPE', 18: 'I-EVENT', 19: 'B-GROUP', 20: 'B-ORDINAL', 21: 'B-PRODUCT', 22: 'I-ORGANIZATION', 23: 'B-MONEY', 24: 'I-MONEY', 25: 'B-CURRENCY', 26: 'B-PERCENT', 27: 'I-PERCENT', 28: 'I-GROUP', 29: 'B-CARDINAL', 30: 'B-LAW', 31: 'I-LAW', 32: 'B-FAC', 33: 'I-FAC', 34: 'B-AGE', 35: 'I-CITY', 36: 'B-WORK_OF_ART', 37: 'I-WORK_OF_ART', 38: 'B-REGION', 39: 'I-REGION', 40: 'I-CARDINAL', 41: 'I-CURRENCY', 42: 'B-QUANTITY', 43: 'I-QUANTITY', 44: 'B-CRIME', 45: 'I-CRIME', 46: 'B-TRADE_AGREEMENT', 47: 'B-NATIONALITY', 48: 'B-FAMILY', 49: 'I-FAMILY', 50: 'I-PRODUCT', 51: 'B-TIME', 52: 'I-TIME', 53: 'I-COMMODITY', 54: 'B-APPLICATION', 55: 'I-APPLICATION', 56: 'I-COUNTRY', 57: 'B-AWARD', 58: 'I-AWARD', 59: 'I-GPE', 60: 'B-LOCATION', 61: 'I-LOCATION', 62: 'I-ORDINAL', 63: 'I-TRADE_AGREEMENT', 64: 'B-RELIGION', 65: 'I-AGE', 66: 'B-INVESTMENT_PROGRAM', 67: 'I-INVESTMENT_PROGRAM', 68: 'B-BOROUGH', 69: 'B-PRICE', 70: 'I-PRICE', 71: 'B-CHARACTER', 72: 'I-CHARACTER', 73: 'B-WEBSITE', 74: 'B-STREET', 75: 'I-STREET', 76: 'B-VILLAGE', 77: 'I-VILLAGE', 78: 'B-DISEASE', 79: 'I-DISEASE', 80: 'B-PENALTY', 81: 'I-PENALTY', 82: 'B-WEAPON', 83: 'I-WEAPON', 84: 'I-BOROUGH', 85: 'B-VEHICLE', 86: 'I-VEHICLE', 87: 'B-LANGUAGE', 88: 'I-LANGUAGE', 89: 'B-HOUSE', 90: 'I-NORP', 91: 'I-HOUSE', 92: 'I-WEBSITE'}\n"
     ]
    }
   ],
   "source": [
    "label_to_id = {\"O\": 0}\n",
    "id_to_label = {0: \"O\"}\n",
    "new_label = 1\n",
    "\n",
    "for sent in sents:\n",
    "    for token_ners in sent[\"stanford_ner\"]:\n",
    "        for ner in token_ners:\n",
    "            if ner not in label_to_id:\n",
    "                label_to_id[ner] = new_label\n",
    "                id_to_label[new_label] = ner\n",
    "                new_label += 1\n",
    "print(id_to_label)"
   ]
  },
  {
   "cell_type": "code",
   "execution_count": 20,
   "metadata": {
    "id": "RHnhatIvXu1P"
   },
   "outputs": [],
   "source": [
    "import json\n",
    "with open(\"id_to_label.json\", \"w\") as f:\n",
    "    json.dump(id_to_label, f, ensure_ascii=False)"
   ]
  },
  {
   "cell_type": "code",
   "execution_count": 21,
   "metadata": {
    "colab": {
     "base_uri": "https://localhost:8080/",
     "height": 337
    },
    "id": "3etYHzuepro1",
    "outputId": "a931b61e-b348-43e6-e9d4-0e591ebab791"
   },
   "outputs": [
    {
     "data": {
      "text/html": [
       "<div>\n",
       "<style scoped>\n",
       "    .dataframe tbody tr th:only-of-type {\n",
       "        vertical-align: middle;\n",
       "    }\n",
       "\n",
       "    .dataframe tbody tr th {\n",
       "        vertical-align: top;\n",
       "    }\n",
       "\n",
       "    .dataframe thead th {\n",
       "        text-align: right;\n",
       "    }\n",
       "</style>\n",
       "<table border=\"1\" class=\"dataframe\">\n",
       "  <thead>\n",
       "    <tr style=\"text-align: right;\">\n",
       "      <th></th>\n",
       "      <th>token</th>\n",
       "      <th>text</th>\n",
       "      <th>stanford_ner</th>\n",
       "      <th>start</th>\n",
       "      <th>stop</th>\n",
       "      <th>filename</th>\n",
       "    </tr>\n",
       "  </thead>\n",
       "  <tbody>\n",
       "    <tr>\n",
       "      <th>0</th>\n",
       "      <td>[Гройсман, пообещал, дать, украинцам, собствен...</td>\n",
       "      <td>Гройсман пообещал дать украинцам собственный г...</td>\n",
       "      <td>[[B-PERSON], [O], [O], [B-NORP], [O], [B-COMMO...</td>\n",
       "      <td>0</td>\n",
       "      <td>125</td>\n",
       "      <td>rured2/data/annotation_files/101144.ann</td>\n",
       "    </tr>\n",
       "    <tr>\n",
       "      <th>1</th>\n",
       "      <td>[Об, этом, в, среду, ,, 28, декабря, ,, заявил...</td>\n",
       "      <td>Об этом в среду, 28 декабря, заявил премьер-ми...</td>\n",
       "      <td>[[O], [O], [B-DATE], [I-DATE], [I-DATE], [I-DA...</td>\n",
       "      <td>126</td>\n",
       "      <td>225</td>\n",
       "      <td>rured2/data/annotation_files/101144.ann</td>\n",
       "    </tr>\n",
       "    <tr>\n",
       "      <th>2</th>\n",
       "      <td>[«, Мы, ставим, задачу, до, 2020, года, перейт...</td>\n",
       "      <td>«Мы ставим задачу до 2020 года перейти на макс...</td>\n",
       "      <td>[[O], [O], [O], [O], [B-DATE], [I-DATE], [I-DA...</td>\n",
       "      <td>226</td>\n",
       "      <td>448</td>\n",
       "      <td>rured2/data/annotation_files/101144.ann</td>\n",
       "    </tr>\n",
       "    <tr>\n",
       "      <th>3</th>\n",
       "      <td>[Он, призвал, потреблять, меньше, энергоресурс...</td>\n",
       "      <td>Он призвал потреблять меньше энергоресурсов, а...</td>\n",
       "      <td>[[O], [O], [O], [O], [B-COMMODITY], [O], [O], ...</td>\n",
       "      <td>449</td>\n",
       "      <td>582</td>\n",
       "      <td>rured2/data/annotation_files/101144.ann</td>\n",
       "    </tr>\n",
       "    <tr>\n",
       "      <th>4</th>\n",
       "      <td>[23, декабря, министр, энергетики, и, угольной...</td>\n",
       "      <td>23 декабря министр энергетики и угольной промы...</td>\n",
       "      <td>[[B-DATE], [I-DATE], [B-PROFESSION, B-NEWS_SOU...</td>\n",
       "      <td>583</td>\n",
       "      <td>717</td>\n",
       "      <td>rured2/data/annotation_files/101144.ann</td>\n",
       "    </tr>\n",
       "  </tbody>\n",
       "</table>\n",
       "</div>"
      ],
      "text/plain": [
       "                                               token  \\\n",
       "0  [Гройсман, пообещал, дать, украинцам, собствен...   \n",
       "1  [Об, этом, в, среду, ,, 28, декабря, ,, заявил...   \n",
       "2  [«, Мы, ставим, задачу, до, 2020, года, перейт...   \n",
       "3  [Он, призвал, потреблять, меньше, энергоресурс...   \n",
       "4  [23, декабря, министр, энергетики, и, угольной...   \n",
       "\n",
       "                                                text  \\\n",
       "0  Гройсман пообещал дать украинцам собственный г...   \n",
       "1  Об этом в среду, 28 декабря, заявил премьер-ми...   \n",
       "2  «Мы ставим задачу до 2020 года перейти на макс...   \n",
       "3  Он призвал потреблять меньше энергоресурсов, а...   \n",
       "4  23 декабря министр энергетики и угольной промы...   \n",
       "\n",
       "                                        stanford_ner  start  stop  \\\n",
       "0  [[B-PERSON], [O], [O], [B-NORP], [O], [B-COMMO...      0   125   \n",
       "1  [[O], [O], [B-DATE], [I-DATE], [I-DATE], [I-DA...    126   225   \n",
       "2  [[O], [O], [O], [O], [B-DATE], [I-DATE], [I-DA...    226   448   \n",
       "3  [[O], [O], [O], [O], [B-COMMODITY], [O], [O], ...    449   582   \n",
       "4  [[B-DATE], [I-DATE], [B-PROFESSION, B-NEWS_SOU...    583   717   \n",
       "\n",
       "                                  filename  \n",
       "0  rured2/data/annotation_files/101144.ann  \n",
       "1  rured2/data/annotation_files/101144.ann  \n",
       "2  rured2/data/annotation_files/101144.ann  \n",
       "3  rured2/data/annotation_files/101144.ann  \n",
       "4  rured2/data/annotation_files/101144.ann  "
      ]
     },
     "execution_count": 21,
     "metadata": {},
     "output_type": "execute_result"
    }
   ],
   "source": [
    "sents_df = pd.DataFrame(sents)\n",
    "sents_df.head(5)"
   ]
  },
  {
   "cell_type": "code",
   "execution_count": 22,
   "metadata": {
    "colab": {
     "base_uri": "https://localhost:8080/",
     "height": 145,
     "referenced_widgets": [
      "836bb237a5034b70b58b622d5c21132e",
      "72aa30ce50454da093fadb6e98a5749e",
      "630f39c18e4a41d69b735ea22c0b76c0",
      "b1cb54078aa5457193621895e02efebd",
      "2f2dd120f83b440d9bbf1fce74e92dd7",
      "1e7e08e3634343b3b23114842a9ebaf1",
      "2baa3b6d974f482cb834750f29b980f9",
      "6b292500113b49f99076d6742b3e76a1",
      "42a53792f7254b9b819f6b3c02d495b1",
      "8e4a5af87b9e48488092cb51a2d3fe2a",
      "8ed10228d3ea43c191d3c6ce1fddc8a6",
      "023d17bd75c5446cb5310e6f30a4dc4e",
      "9a5cdfdf2e6c426aa48fe08be19d66b9",
      "7956d60d9ec24719b56f602d96ac78d0",
      "da5d560b02954f04985aab5d31af6ba7",
      "c3f216146b57488ab2db5a589ad77108",
      "268a8a58786a462782e2a77f0e742f90",
      "f1aab3259d854913a449f10dd43b191b",
      "b8c8bdac286c472fab6ac1cc146cc1bb",
      "38e6fe6c5f8d4d7d9a03c0f10aa9a1aa",
      "59df57c490694997a37d5491b41fcaa2",
      "f6d406b232c64239b4b3b1d8195e31d9",
      "03954c68cead4824b2c8e49e8b969948",
      "83a4420aa8f64b2a8c7107d7aa8a6f7a",
      "4e535bb5d4b34f6db3858a0cdadd8f19",
      "9922e2b35336419e9083f7d17a146722",
      "50ef20eee1774e22ab12af89212a31c8",
      "566f326137154ff882f445343ee16611",
      "df7ad42ede8f4a2bbfad21d7443cdc23",
      "12c8196e406b47a3ab2a54f5104f90ad",
      "fd33bd7f1fa743b0bcb6e0c6d2856f72",
      "c77e1c356a7a445f9aa0794e0cdacfab",
      "e016d41e48c844aea0a4a67a75458102",
      "f26df8854a4a40c092806a73b0559047",
      "6f7c7a3bb65c49ccb47f14b8cf10e6ad",
      "895cdf572bd04187b65174bc73667044",
      "90a79d6444fc4dfaba0e99e1fd80ea85",
      "0673c0e4c9c046a99af9f27433ba1752",
      "8871cc0087e64c4bb45daf656f1a871d",
      "782c4b158fe540c7a3cd16cee88023d9",
      "3273dc673f964117972391a81600f856",
      "95061e173aa24a95b8a39da7ea3f1e67",
      "88a558b0c1854452ac3f498835e3d849",
      "982db62c2e284acf98216b75380e23e2"
     ]
    },
    "id": "KzPLOts-p-JN",
    "outputId": "23e76ba3-4a63-440f-8533-81a2205b00b0"
   },
   "outputs": [
    {
     "name": "stderr",
     "output_type": "stream",
     "text": [
      "/root/miniconda3/envs/python3.10/lib/python3.10/site-packages/transformers/convert_slow_tokenizer.py:473: UserWarning: The sentencepiece tokenizer that you are converting to a fast tokenizer uses the byte fallback option which is not implemented in the fast tokenizers. In practice this means that the fast version of the tokenizer can produce unknown tokens whereas the sentencepiece version would have converted these unknown tokens into a sequence of byte tokens matching the original piece of text.\n",
      "  warnings.warn(\n"
     ]
    }
   ],
   "source": [
    "tokenizer = AutoTokenizer.from_pretrained(model_ckpt, use_fast=True)"
   ]
  },
  {
   "cell_type": "code",
   "execution_count": 23,
   "metadata": {
    "id": "GWZdZhYICwXE"
   },
   "outputs": [],
   "source": [
    "sents_train, sents_test = train_test_split(sents_df, test_size=0.1, random_state=42)"
   ]
  },
  {
   "cell_type": "code",
   "execution_count": 24,
   "metadata": {
    "id": "TPNbSiaE0NyF"
   },
   "outputs": [],
   "source": [
    "tokenized_train = tokenize_and_align_labels(sents_train, \"token\", \"stanford_ner\", label_all_tokens=False)\n",
    "tokenized_test = tokenize_and_align_labels(sents_test, \"token\", \"stanford_ner\", label_all_tokens=False)"
   ]
  },
  {
   "cell_type": "code",
   "execution_count": 25,
   "metadata": {
    "id": "4WebnhQE1GP9"
   },
   "outputs": [],
   "source": [
    "# hf_dataset = Dataset.from_dict(tokenized_inputs)\n",
    "hf_train = Dataset.from_dict(tokenized_train)\n",
    "hf_test = Dataset.from_dict(tokenized_test)"
   ]
  },
  {
   "cell_type": "code",
   "execution_count": 26,
   "metadata": {
    "id": "qAarWH2U2drn"
   },
   "outputs": [],
   "source": [
    "from torch import nn\n",
    "def compute_metrics(eval_pred):\n",
    "    predictions, labels = eval_pred\n",
    "    # predictions = (predictions > 0.5).astype(int)\n",
    "    # f1_results = f1_score(labels,\n",
    "    #                       (predictions > 0.5).astype(int),\n",
    "    #                       average=None)\n",
    "    # print(\"pred0\", predictions[0])\n",
    "    # print(\"pred0sampl\", (predictions[0] > 0.5).astype(int))\n",
    "    # print(\"label0\", labels[0])\n",
    "\n",
    "    # print(\"preds\", predictions)\n",
    "    # print(\"labels\", labels)\n",
    "    sigmoid = nn.Sigmoid()\n",
    "    # print(labels.shape)\n",
    "    # print(predictions.shape)\n",
    "    f1_micro = 0\n",
    "    f1_macro = 0\n",
    "    output = dict()\n",
    "    for i, l in enumerate(labels):\n",
    "        sigmod_preds = (sigmoid(\n",
    "            torch.Tensor(predictions[i])\n",
    "            ).numpy() > 0.5\n",
    "                        ).astype(int)\n",
    "        f1_micro += f1_score(l,\n",
    "                             sigmod_preds,\n",
    "                             # (predictions > 0.5).astype(int),\n",
    "                             average=\"micro\",\n",
    "                             zero_division=0)\n",
    "    f1_micro /= predictions.shape[0]\n",
    "    output['f1_micro'] = f1_micro\n",
    "    macro_metrics = dict()\n",
    "    for j in range(predictions.shape[2]):\n",
    "        # sents; words; class\n",
    "        col_labels = labels[:, :, j]\n",
    "        col_preds = predictions[:, :, j]\n",
    "        col_sigmoid_preds = (sigmoid(torch.Tensor(col_preds)).numpy() > 0.5).astype(int)\n",
    "        for metric in (f1_score, recall_score, precision_score):\n",
    "            metric_name = metric.__name__.replace(\"_score\", \"\")\n",
    "            for average in [\n",
    "                    # \"macro\",\n",
    "                    \"micro\"\n",
    "            ]:\n",
    "                score = metric(col_labels,\n",
    "                               col_sigmoid_preds,\n",
    "                               average=average,\n",
    "                               zero_division=0\n",
    "                              )\n",
    "                output[f\"{id_to_label[j]}_{metric_name}_{average}\"] = score\n",
    "                if metric_name not in macro_metrics:\n",
    "                    macro_metrics[metric_name] = 0\n",
    "                if j > 0:\n",
    "                    macro_metrics[metric_name] += score\n",
    "    for metric, score in macro_metrics.items():\n",
    "        # do not include O\n",
    "        output[f\"{metric}_macro\"] = score / (len(id_to_label) - 1)\n",
    "    return output\n",
    "\n",
    "class MultiLabelNERTrainer(Trainer):\n",
    "    def __init__(self, *args, class_weights = None, **kwargs):\n",
    "        super().__init__(*args, **kwargs)\n",
    "        if class_weights is not None:\n",
    "            class_weights = class_weights.to(self.args.device)\n",
    "            logging.info(f\"Using multi-label classification with class weights\", class_weights)\n",
    "        self.loss_fct = torch.nn.BCEWithLogitsLoss(weight=class_weights)\n",
    "\n",
    "    def compute_loss(self, model, inputs, return_outputs=False):\n",
    "        \"\"\"\n",
    "        How the loss is computed by Trainer. By default, all models return the loss in the first element.\n",
    "        Subclass and override for custom behavior.\n",
    "        \"\"\"\n",
    "        labels  = inputs.pop(\"labels\")\n",
    "        outputs = model(**inputs)\n",
    "        # print(outputs)\n",
    "        # this accesses predictions for tokens that aren't CLS, PAD, or the 2nd+ subword in a word\n",
    "        # and simultaneously flattens the logits or labels\n",
    "        # print(\"LOGITS\", outputs.logits)\n",
    "        # print(\"LABELS\", labels)\n",
    "        # print(\"labels 0\", labels[0])\n",
    "        # print(\"LOGITS 0\", outputs.logits[0])\n",
    "        # print(\"labels 0\", labels[0].shape)\n",
    "        # print(\"LOGITS 0\", outputs.logits[0].shape)\n",
    "        # flat_outputs = outputs.logits[labels > 0] \n",
    "        # flat_outputs = outputs.logits.view(8 * 340, -1)[(labels.sum(axis=2) > 2).view(-1)].view(8, -1, 76)\n",
    "        flat_outputs = outputs.logits[labels.sum(axis=2) > 0]\n",
    "        flat_labels  = labels[labels.sum(axis=2) > 0]\n",
    "        # print(\"flat_outputs\", flat_outputs.shape)\n",
    "        # print(\"flat_labels\", flat_labels.shape)\n",
    "        try:\n",
    "            loss = self.loss_fct(flat_outputs, flat_labels.float())\n",
    "        except AttributeError:  # DataParallel\n",
    "            loss = self.loss_fct(flat_outputs, flat_labels)\n",
    "\n",
    "        return (loss, outputs) if return_outputs else loss"
   ]
  },
  {
   "cell_type": "code",
   "execution_count": 27,
   "metadata": {
    "id": "UpvH1XKi8Fz2"
   },
   "outputs": [],
   "source": [
    "# Make sure your data is correctly formatted, e.g., 0 or 1 encoded for each label for each sample."
   ]
  },
  {
   "cell_type": "code",
   "execution_count": 28,
   "metadata": {
    "colab": {
     "base_uri": "https://localhost:8080/",
     "height": 156,
     "referenced_widgets": [
      "00f9350b0ae049c4ae265e24ee38bb7c",
      "538316fa640f4ad387b8e936b39bf313",
      "898cf92de7ad48ba827b265478427f26",
      "4429069b88a043b9b67f53f40b229aa9",
      "e71165ad05bb4a11a5abd4d38b65e42f",
      "5f9f470b77e54c08be48d3fdebfb57b7",
      "443581dafed94e859ddc03bb6361e733",
      "89debd5fabc44fbc9b39034b5ab8b389",
      "0c26d568bfff42fdb7d7d2c0e8625993",
      "d1f26dcc1d8846ada6cd4f2f401a63fe",
      "d0148c5ef31346fbb1d58a2074d21faf"
     ]
    },
    "id": "peUQMMYt3M_L",
    "outputId": "3a43509b-cef8-40fc-8323-09203efee268"
   },
   "outputs": [
    {
     "name": "stderr",
     "output_type": "stream",
     "text": [
      "Some weights of DebertaV2ForTokenClassification were not initialized from the model checkpoint at microsoft/mdeberta-v3-base and are newly initialized: ['classifier.weight', 'classifier.bias']\n",
      "You should probably TRAIN this model on a down-stream task to be able to use it for predictions and inference.\n"
     ]
    }
   ],
   "source": [
    "model = AutoModelForTokenClassification.from_pretrained(model_ckpt, num_labels=len(id_to_label))#.to('cuda')\n",
    "model.config.label2id = label_to_id\n",
    "model.config.id2label = id_to_label"
   ]
  },
  {
   "cell_type": "code",
   "execution_count": null,
   "metadata": {
    "colab": {
     "base_uri": "https://localhost:8080/",
     "height": 1000
    },
    "id": "4ozlG0v92qgr",
    "outputId": "3788b632-a2eb-4b5b-a0ff-5a8cdaeae0d1"
   },
   "outputs": [
    {
     "name": "stderr",
     "output_type": "stream",
     "text": [
      "You're using a DebertaV2TokenizerFast tokenizer. Please note that with a fast tokenizer, using the `__call__` method is faster than using a method to encode the text followed by a call to the `pad` method to get a padded encoding.\n"
     ]
    },
    {
     "data": {
      "text/html": [
       "\n",
       "    <div>\n",
       "      \n",
       "      <progress value='335' max='335' style='width:300px; height:20px; vertical-align: middle;'></progress>\n",
       "      [335/335 00:28]\n",
       "    </div>\n",
       "    "
      ],
      "text/plain": [
       "<IPython.core.display.HTML object>"
      ]
     },
     "metadata": {},
     "output_type": "display_data"
    },
    {
     "data": {
      "text/html": [
       "\n",
       "    <div>\n",
       "      \n",
       "      <progress value='1445' max='30140000' style='width:300px; height:20px; vertical-align: middle;'></progress>\n",
       "      [    1445/30140000 06:43 < 2341:55:16, 3.57 it/s, Epoch 0.48/10000]\n",
       "    </div>\n",
       "    <table border=\"1\" class=\"dataframe\">\n",
       "  <thead>\n",
       " <tr style=\"text-align: left;\">\n",
       "      <th>Epoch</th>\n",
       "      <th>Training Loss</th>\n",
       "      <th>Validation Loss</th>\n",
       "    </tr>\n",
       "  </thead>\n",
       "  <tbody>\n",
       "  </tbody>\n",
       "</table><p>"
      ],
      "text/plain": [
       "<IPython.core.display.HTML object>"
      ]
     },
     "metadata": {},
     "output_type": "display_data"
    }
   ],
   "source": [
    "training_args = TrainingArguments(\n",
    "    output_dir=\"multilabel_ner\",\n",
    "    save_strategy=\"epoch\",\n",
    "    evaluation_strategy = \"epoch\",\n",
    "    learning_rate=1e-5,\n",
    "    per_device_train_batch_size=4,\n",
    "    per_device_eval_batch_size=4,\n",
    "    num_train_epochs=10000,\n",
    "    weight_decay=0.01,\n",
    "    save_total_limit=4,\n",
    "    metric_for_best_model=\"f1_macro\",\n",
    "    load_best_model_at_end=True,\n",
    "    fp16=True\n",
    ")\n",
    "\n",
    "trainer = MultiLabelNERTrainer(\n",
    "    model=model,\n",
    "    args=training_args,\n",
    "    train_dataset=hf_train,\n",
    "    eval_dataset=hf_test,\n",
    "    tokenizer=tokenizer,\n",
    "    # data_collator=data_collator,\n",
    "    compute_metrics=compute_metrics,\n",
    "    callbacks = [EarlyStoppingCallback(early_stopping_patience=3)],\n",
    ")\n",
    "\n",
    "# for param in model.parameters():\n",
    "#     param.requires_grad = False\n",
    "\n",
    "dataset_name = \"rured2_model\"\n",
    "# # gradual unfreezing\n",
    "# for i, param in enumerate(list(model.parameters())[::-1]):\n",
    "#     param.requires_grad = True\n",
    "#     if i % 40 != 0:\n",
    "#         continue\n",
    "#     print(i, len(param.shape), len(list(model.parameters())))\n",
    "#     trainer.evaluate()\n",
    "#     trainer.train()\n",
    "#     results = trainer.evaluate()\n",
    "#     prev_score = results[\"eval_f1_macro\"]\n",
    "#     best_model_checkpoint = None\n",
    "#     if results[\"eval_f1_macro\"] < prev_score and i >= 2:\n",
    "#         print(f\"loading previous best model: {best_model_checkpoint}\")\n",
    "#         trainer.state.best_model_checkpoint = best_model_checkpoint\n",
    "#         trainer._load_best_model()\n",
    "#     else:\n",
    "#         prev_score = results[\"eval_f1_macro\"]\n",
    "#         best_model_checkpoint = f\"{dataset_name}_step{i}\"\n",
    "#         print(f\"saving new best model: {best_model_checkpoint}\")\n",
    "#         trainer.save_model(f\"{dataset_name}_step{i}\")\n",
    "\n",
    "trainer.evaluate()\n",
    "trainer.train()\n",
    "trainer.train()\n",
    "# trainer.save_model(\"multilabel_ner_rured2\")"
   ]
  },
  {
   "cell_type": "code",
   "execution_count": 115,
   "metadata": {},
   "outputs": [
    {
     "data": {
      "application/vnd.jupyter.widget-view+json": {
       "model_id": "a4087c758cc5440783ea5c3848765896",
       "version_major": 2,
       "version_minor": 0
      },
      "text/plain": [
       "tokenizer.json:   0%|          | 0.00/16.3M [00:00<?, ?B/s]"
      ]
     },
     "metadata": {},
     "output_type": "display_data"
    },
    {
     "data": {
      "application/vnd.jupyter.widget-view+json": {
       "model_id": "3d5da2bbc8c64be2a1d22471c2867165",
       "version_major": 2,
       "version_minor": 0
      },
      "text/plain": [
       "Upload 4 LFS files:   0%|          | 0/4 [00:00<?, ?it/s]"
      ]
     },
     "metadata": {},
     "output_type": "display_data"
    },
    {
     "data": {
      "application/vnd.jupyter.widget-view+json": {
       "model_id": "1ff79bbe832a4aaca9edf00228bc2706",
       "version_major": 2,
       "version_minor": 0
      },
      "text/plain": [
       "spm.model:   0%|          | 0.00/4.31M [00:00<?, ?B/s]"
      ]
     },
     "metadata": {},
     "output_type": "display_data"
    },
    {
     "data": {
      "application/vnd.jupyter.widget-view+json": {
       "model_id": "0790c943715e4eb8b6a489e948c2ee94",
       "version_major": 2,
       "version_minor": 0
      },
      "text/plain": [
       "model.safetensors:   0%|          | 0.00/1.11G [00:00<?, ?B/s]"
      ]
     },
     "metadata": {},
     "output_type": "display_data"
    },
    {
     "data": {
      "application/vnd.jupyter.widget-view+json": {
       "model_id": "5e109820e84842fba4fe8eee4cd2922f",
       "version_major": 2,
       "version_minor": 0
      },
      "text/plain": [
       "training_args.bin:   0%|          | 0.00/4.54k [00:00<?, ?B/s]"
      ]
     },
     "metadata": {},
     "output_type": "display_data"
    },
    {
     "data": {
      "text/plain": [
       "'https://huggingface.co/denis-gordeev/multilabel_ner/tree/main/'"
      ]
     },
     "execution_count": 115,
     "metadata": {},
     "output_type": "execute_result"
    }
   ],
   "source": [
    "trainer.push_to_hub()"
   ]
  },
  {
   "cell_type": "code",
   "execution_count": 111,
   "metadata": {
    "id": "u0kiEdmw5Hqq"
   },
   "outputs": [],
   "source": [
    "trainer.save_model(\"bert_rured_training2\")"
   ]
  },
  {
   "cell_type": "code",
   "execution_count": 41,
   "metadata": {
    "id": "yM4WvjdrJJzq"
   },
   "outputs": [
    {
     "name": "stderr",
     "output_type": "stream",
     "text": [
      "huggingface/tokenizers: The current process just got forked, after parallelism has already been used. Disabling parallelism to avoid deadlocks...\n",
      "To disable this warning, you can either:\n",
      "\t- Avoid using `tokenizers` before the fork if possible\n",
      "\t- Explicitly set the environment variable TOKENIZERS_PARALLELISM=(true | false)\n"
     ]
    },
    {
     "name": "stdout",
     "output_type": "stream",
     "text": [
      "updating: bert_rured_training/added_tokens.json (stored 0%)\n",
      "updating: bert_rured_training/config.json (deflated 69%)\n",
      "updating: bert_rured_training/model.safetensors (deflated 27%)\n",
      "updating: bert_rured_training/special_tokens_map.json (deflated 50%)\n",
      "updating: bert_rured_training/spm.model (deflated 46%)\n",
      "updating: bert_rured_training/tokenizer.json (deflated 76%)\n",
      "updating: bert_rured_training/tokenizer_config.json (deflated 73%)\n",
      "updating: bert_rured_training/training_args.bin (deflated 50%)\n"
     ]
    },
    {
     "name": "stderr",
     "output_type": "stream",
     "text": [
      "huggingface/tokenizers: The current process just got forked, after parallelism has already been used. Disabling parallelism to avoid deadlocks...\n",
      "To disable this warning, you can either:\n",
      "\t- Avoid using `tokenizers` before the fork if possible\n",
      "\t- Explicitly set the environment variable TOKENIZERS_PARALLELISM=(true | false)\n"
     ]
    },
    {
     "name": "stdout",
     "output_type": "stream",
     "text": [
      "cp: cannot create regular file 'drive/MyDrive/': No such file or directory\n"
     ]
    }
   ],
   "source": [
    "!zip bert_rured_training.zip bert_rured_training/*\n",
    "!cp bert_rured_training.zip drive/MyDrive/"
   ]
  },
  {
   "cell_type": "code",
   "execution_count": 42,
   "metadata": {
    "id": "GdKTF-iLCNdf"
   },
   "outputs": [
    {
     "name": "stderr",
     "output_type": "stream",
     "text": [
      "huggingface/tokenizers: The current process just got forked, after parallelism has already been used. Disabling parallelism to avoid deadlocks...\n",
      "To disable this warning, you can either:\n",
      "\t- Avoid using `tokenizers` before the fork if possible\n",
      "\t- Explicitly set the environment variable TOKENIZERS_PARALLELISM=(true | false)\n"
     ]
    },
    {
     "name": "stdout",
     "output_type": "stream",
     "text": [
      "cp: cannot stat 'drive/MyDrive/bert_rured_training.zip': No such file or directory\n"
     ]
    }
   ],
   "source": [
    "cp drive/MyDrive/bert_rured_training.zip ./"
   ]
  },
  {
   "cell_type": "code",
   "execution_count": null,
   "metadata": {
    "id": "cfIgUqAkCUuG"
   },
   "outputs": [],
   "source": [
    "!unzip bert_rured_training.zip"
   ]
  },
  {
   "cell_type": "code",
   "execution_count": null,
   "metadata": {
    "id": "zeLJBxjJE2iM"
   },
   "outputs": [],
   "source": [
    "import json\n",
    "with open(\"bert_rured_training/id_to_label.json\") as f:\n",
    "    id_to_label = json.load(f)\n",
    "id_to_label = {int(k): v for k, v in id_to_label.items()}"
   ]
  },
  {
   "cell_type": "code",
   "execution_count": 116,
   "metadata": {},
   "outputs": [
    {
     "data": {
      "application/vnd.jupyter.widget-view+json": {
       "model_id": "da7089e182844c179a1d6480f703025a",
       "version_major": 2,
       "version_minor": 0
      },
      "text/plain": [
       "Downloading (…)lve/main/config.json:   0%|          | 0.00/5.02k [00:00<?, ?B/s]"
      ]
     },
     "metadata": {},
     "output_type": "display_data"
    },
    {
     "data": {
      "application/vnd.jupyter.widget-view+json": {
       "model_id": "03aef609343a4e7c9219a1aa8d0b4824",
       "version_major": 2,
       "version_minor": 0
      },
      "text/plain": [
       "Downloading model.safetensors:   0%|          | 0.00/1.11G [00:00<?, ?B/s]"
      ]
     },
     "metadata": {},
     "output_type": "display_data"
    },
    {
     "name": "stderr",
     "output_type": "stream",
     "text": [
      "/root/miniconda3/envs/python3.10/lib/python3.10/site-packages/transformers/convert_slow_tokenizer.py:473: UserWarning: The sentencepiece tokenizer that you are converting to a fast tokenizer uses the byte fallback option which is not implemented in the fast tokenizers. In practice this means that the fast version of the tokenizer can produce unknown tokens whereas the sentencepiece version would have converted these unknown tokens into a sequence of byte tokens matching the original piece of text.\n",
      "  warnings.warn(\n"
     ]
    }
   ],
   "source": [
    "model = AutoModelForTokenClassification.from_pretrained(\n",
    "    f\"denis-gordeev/rured2-ner-microsoft-mdeberta-v3-base\") #.to('cuda')\n",
    "\n",
    "tokenizer = AutoTokenizer.from_pretrained(model_ckpt)"
   ]
  },
  {
   "cell_type": "code",
   "execution_count": 117,
   "metadata": {},
   "outputs": [
    {
     "data": {
      "application/vnd.jupyter.widget-view+json": {
       "model_id": "08826dcdc48e4fd7944a68e20e9e3585",
       "version_major": 2,
       "version_minor": 0
      },
      "text/plain": [
       "Downloading (…)okenizer_config.json:   0%|          | 0.00/1.28k [00:00<?, ?B/s]"
      ]
     },
     "metadata": {},
     "output_type": "display_data"
    },
    {
     "data": {
      "application/vnd.jupyter.widget-view+json": {
       "model_id": "705b61037f974666b2cc79817153ba56",
       "version_major": 2,
       "version_minor": 0
      },
      "text/plain": [
       "Downloading spm.model:   0%|          | 0.00/4.31M [00:00<?, ?B/s]"
      ]
     },
     "metadata": {},
     "output_type": "display_data"
    },
    {
     "data": {
      "application/vnd.jupyter.widget-view+json": {
       "model_id": "51282afd3ad84bc7911eacf9a7582589",
       "version_major": 2,
       "version_minor": 0
      },
      "text/plain": [
       "Downloading tokenizer.json:   0%|          | 0.00/16.3M [00:00<?, ?B/s]"
      ]
     },
     "metadata": {},
     "output_type": "display_data"
    },
    {
     "data": {
      "application/vnd.jupyter.widget-view+json": {
       "model_id": "d792ea0a6f9944108344ce155e161558",
       "version_major": 2,
       "version_minor": 0
      },
      "text/plain": [
       "Downloading (…)in/added_tokens.json:   0%|          | 0.00/23.0 [00:00<?, ?B/s]"
      ]
     },
     "metadata": {},
     "output_type": "display_data"
    },
    {
     "data": {
      "application/vnd.jupyter.widget-view+json": {
       "model_id": "ba5627b3467c4c2db93ef67ca1212072",
       "version_major": 2,
       "version_minor": 0
      },
      "text/plain": [
       "Downloading (…)cial_tokens_map.json:   0%|          | 0.00/286 [00:00<?, ?B/s]"
      ]
     },
     "metadata": {},
     "output_type": "display_data"
    }
   ],
   "source": [
    "tokenizer = AutoTokenizer.from_pretrained(f\"denis-gordeev/rured2-ner-microsoft-mdeberta-v3-base\")"
   ]
  },
  {
   "cell_type": "code",
   "execution_count": null,
   "metadata": {
    "id": "DJqe2esVCXwf"
   },
   "outputs": [],
   "source": [
    "model_desc = model_ckpt.replace(\"/\", \"_\")\n",
    "model = AutoModelForTokenClassification.from_pretrained(\n",
    "    f\"multilabel_ner_rured2_{model_ckpt}\") #.to('cuda')\n",
    "model.config.id2label = id_to_label\n",
    "\n",
    "tokenizer = AutoTokenizer.from_pretrained(model_ckpt)"
   ]
  },
  {
   "cell_type": "code",
   "execution_count": 123,
   "metadata": {
    "id": "ZyhAV2GdtJsJ"
   },
   "outputs": [],
   "source": [
    "from torch import nn\n",
    "def predict(text:str, glue_tokens=False, output_together=True, glue_words=True):\n",
    "    sigmoid = nn.Sigmoid()\n",
    "    tokenized = tokenizer(text)\n",
    "    input_ids = torch.tensor(\n",
    "            [tokenized[\"input_ids\"]], dtype=torch.long\n",
    "        ).to(\"cuda\")\n",
    "    token_type_ids = torch.tensor(\n",
    "            [tokenized[\"token_type_ids\"]], dtype=torch.long\n",
    "        ).to(\"cuda\")\n",
    "    attention_mask = torch.tensor(\n",
    "            [tokenized[\"attention_mask\"]], dtype=torch.long\n",
    "        ).to(\"cuda\")\n",
    "    preds = model(**{\"input_ids\": input_ids, \"token_type_ids\": token_type_ids, \"attention_mask\": attention_mask})\n",
    "    logits = sigmoid(preds.logits)\n",
    "\n",
    "    output_tokens = []\n",
    "    output_preds = []\n",
    "    for i, token in enumerate(input_ids[0]):\n",
    "        if token > 3:\n",
    "            class_ids = (logits[0][i] > 0.5).nonzero()\n",
    "            if class_ids.shape[0] >= 1:\n",
    "                class_names = [id_to_label[int(cl)] for cl in class_ids]\n",
    "            else:\n",
    "                class_names = [id_to_label[int(logits[0][i].argmax())]]\n",
    "            converted_token = tokenizer.convert_ids_to_tokens([token])[0]\n",
    "            new_word_bool = converted_token.startswith(\"▁\")\n",
    "            converted_token = converted_token.replace(\"▁\", \"\")\n",
    "            if glue_words and not(new_word_bool) and output_tokens:\n",
    "                output_tokens[-1] += converted_token\n",
    "            else:\n",
    "                output_tokens.append(converted_token)\n",
    "                output_preds.append(class_names)\n",
    "        else:\n",
    "            class_names = []\n",
    "    if output_together:\n",
    "        return [[output_tokens[t_i], output_preds[t_i]] for t_i in range(len(output_tokens))]\n",
    "    return output_tokens, output_preds"
   ]
  },
  {
   "cell_type": "code",
   "execution_count": 35,
   "metadata": {},
   "outputs": [
    {
     "data": {
      "text/html": [
       "\n",
       "    <div>\n",
       "      \n",
       "      <progress value='335' max='335' style='width:300px; height:20px; vertical-align: middle;'></progress>\n",
       "      [335/335 00:27]\n",
       "    </div>\n",
       "    "
      ],
      "text/plain": [
       "<IPython.core.display.HTML object>"
      ]
     },
     "metadata": {},
     "output_type": "display_data"
    },
    {
     "data": {
      "text/plain": [
       "{'eval_loss': 0.009618951939046383,\n",
       " 'eval_f1_micro': 0.5836586590836932,\n",
       " 'eval_O_f1_micro': 0.6370438459417226,\n",
       " 'eval_O_recall_micro': 0.9241519095370173,\n",
       " 'eval_O_precision_micro': 0.48604370634274974,\n",
       " 'eval_B-PERSON_f1_micro': 0.963882618510158,\n",
       " 'eval_B-PERSON_recall_micro': 0.9816091954022989,\n",
       " 'eval_B-PERSON_precision_micro': 0.9467849223946785,\n",
       " 'eval_B-NORP_f1_micro': 0.6190476190476191,\n",
       " 'eval_B-NORP_recall_micro': 0.8666666666666667,\n",
       " 'eval_B-NORP_precision_micro': 0.48148148148148145,\n",
       " 'eval_B-COMMODITY_f1_micro': 0.755287009063444,\n",
       " 'eval_B-COMMODITY_recall_micro': 0.946969696969697,\n",
       " 'eval_B-COMMODITY_precision_micro': 0.628140703517588,\n",
       " 'eval_B-DATE_f1_micro': 0.8386454183266933,\n",
       " 'eval_B-DATE_recall_micro': 0.8470824949698189,\n",
       " 'eval_B-DATE_precision_micro': 0.8303747534516766,\n",
       " 'eval_I-DATE_f1_micro': 0.6419161676646707,\n",
       " 'eval_I-DATE_recall_micro': 0.9492325855962219,\n",
       " 'eval_I-DATE_precision_micro': 0.48492159227985526,\n",
       " 'eval_B-COUNTRY_f1_micro': 0.6151950718685831,\n",
       " 'eval_B-COUNTRY_recall_micro': 0.9765319426336375,\n",
       " 'eval_B-COUNTRY_precision_micro': 0.4490407673860911,\n",
       " 'eval_B-ECONOMIC_SECTOR_f1_micro': 0.5575757575757575,\n",
       " 'eval_B-ECONOMIC_SECTOR_recall_micro': 0.5897435897435898,\n",
       " 'eval_B-ECONOMIC_SECTOR_precision_micro': 0.5287356321839081,\n",
       " 'eval_I-ECONOMIC_SECTOR_f1_micro': 0.25165562913907286,\n",
       " 'eval_I-ECONOMIC_SECTOR_recall_micro': 0.6666666666666666,\n",
       " 'eval_I-ECONOMIC_SECTOR_precision_micro': 0.15510204081632653,\n",
       " 'eval_B-NEWS_SOURCE_f1_micro': 0.7988394584139265,\n",
       " 'eval_B-NEWS_SOURCE_recall_micro': 0.8326612903225806,\n",
       " 'eval_B-NEWS_SOURCE_precision_micro': 0.7676579925650557,\n",
       " 'eval_B-PROFESSION_f1_micro': 0.8087649402390438,\n",
       " 'eval_B-PROFESSION_recall_micro': 0.9463869463869464,\n",
       " 'eval_B-PROFESSION_precision_micro': 0.7060869565217391,\n",
       " 'eval_I-NEWS_SOURCE_f1_micro': 0.48084958217270196,\n",
       " 'eval_I-NEWS_SOURCE_recall_micro': 0.8400243309002433,\n",
       " 'eval_I-NEWS_SOURCE_precision_micro': 0.33682926829268295,\n",
       " 'eval_I-PERSON_f1_micro': 0.3380855397148676,\n",
       " 'eval_I-PERSON_recall_micro': 0.996,\n",
       " 'eval_I-PERSON_precision_micro': 0.2035977105478332,\n",
       " 'eval_B-ORGANIZATION_f1_micro': 0.8350340136054422,\n",
       " 'eval_B-ORGANIZATION_recall_micro': 0.8992673992673993,\n",
       " 'eval_B-ORGANIZATION_precision_micro': 0.7793650793650794,\n",
       " 'eval_I-PROFESSION_f1_micro': 0.2462253193960511,\n",
       " 'eval_I-PROFESSION_recall_micro': 0.803030303030303,\n",
       " 'eval_I-PROFESSION_precision_micro': 0.14540466392318244,\n",
       " 'eval_B-EVENT_f1_micro': 0.5658093797276853,\n",
       " 'eval_B-EVENT_recall_micro': 0.5436046511627907,\n",
       " 'eval_B-EVENT_precision_micro': 0.5899053627760252,\n",
       " 'eval_B-CITY_f1_micro': 0.625,\n",
       " 'eval_B-CITY_recall_micro': 0.8904109589041096,\n",
       " 'eval_B-CITY_precision_micro': 0.48148148148148145,\n",
       " 'eval_B-GPE_f1_micro': 0.6759776536312849,\n",
       " 'eval_B-GPE_recall_micro': 0.937984496124031,\n",
       " 'eval_B-GPE_precision_micro': 0.5283842794759825,\n",
       " 'eval_I-EVENT_f1_micro': 0.2577433628318584,\n",
       " 'eval_I-EVENT_recall_micro': 0.37763371150729336,\n",
       " 'eval_I-EVENT_precision_micro': 0.19563392107472713,\n",
       " 'eval_B-GROUP_f1_micro': 0.6666666666666665,\n",
       " 'eval_B-GROUP_recall_micro': 0.75,\n",
       " 'eval_B-GROUP_precision_micro': 0.6,\n",
       " 'eval_B-ORDINAL_f1_micro': 0.5306122448979591,\n",
       " 'eval_B-ORDINAL_recall_micro': 0.8125,\n",
       " 'eval_B-ORDINAL_precision_micro': 0.3939393939393939,\n",
       " 'eval_B-PRODUCT_f1_micro': 0.6683168316831682,\n",
       " 'eval_B-PRODUCT_recall_micro': 0.823170731707317,\n",
       " 'eval_B-PRODUCT_precision_micro': 0.5625,\n",
       " 'eval_I-ORGANIZATION_f1_micro': 0.3128187691261476,\n",
       " 'eval_I-ORGANIZATION_recall_micro': 0.8424908424908425,\n",
       " 'eval_I-ORGANIZATION_precision_micro': 0.19206680584551147,\n",
       " 'eval_B-MONEY_f1_micro': 0.8530465949820788,\n",
       " 'eval_B-MONEY_recall_micro': 0.8947368421052632,\n",
       " 'eval_B-MONEY_precision_micro': 0.815068493150685,\n",
       " 'eval_I-MONEY_f1_micro': 0.6258660508083141,\n",
       " 'eval_I-MONEY_recall_micro': 0.9644128113879004,\n",
       " 'eval_I-MONEY_precision_micro': 0.46324786324786327,\n",
       " 'eval_B-CURRENCY_f1_micro': 0.7440633245382586,\n",
       " 'eval_B-CURRENCY_recall_micro': 0.9657534246575342,\n",
       " 'eval_B-CURRENCY_precision_micro': 0.6051502145922747,\n",
       " 'eval_B-PERCENT_f1_micro': 0.8639053254437871,\n",
       " 'eval_B-PERCENT_recall_micro': 0.8902439024390244,\n",
       " 'eval_B-PERCENT_precision_micro': 0.8390804597701149,\n",
       " 'eval_I-PERCENT_f1_micro': 0.6994535519125683,\n",
       " 'eval_I-PERCENT_recall_micro': 0.9846153846153847,\n",
       " 'eval_I-PERCENT_precision_micro': 0.5423728813559322,\n",
       " 'eval_I-GROUP_f1_micro': 0.184375,\n",
       " 'eval_I-GROUP_recall_micro': 0.48360655737704916,\n",
       " 'eval_I-GROUP_precision_micro': 0.1138996138996139,\n",
       " 'eval_B-CARDINAL_f1_micro': 0.6902654867256638,\n",
       " 'eval_B-CARDINAL_recall_micro': 0.7358490566037735,\n",
       " 'eval_B-CARDINAL_precision_micro': 0.65,\n",
       " 'eval_B-LAW_f1_micro': 0.3703703703703704,\n",
       " 'eval_B-LAW_recall_micro': 0.35714285714285715,\n",
       " 'eval_B-LAW_precision_micro': 0.38461538461538464,\n",
       " 'eval_I-LAW_f1_micro': 0.324561403508772,\n",
       " 'eval_I-LAW_recall_micro': 0.39361702127659576,\n",
       " 'eval_I-LAW_precision_micro': 0.27611940298507465,\n",
       " 'eval_B-FAC_f1_micro': 0.6909871244635193,\n",
       " 'eval_B-FAC_recall_micro': 0.6909871244635193,\n",
       " 'eval_B-FAC_precision_micro': 0.6909871244635193,\n",
       " 'eval_I-FAC_f1_micro': 0.3007334963325184,\n",
       " 'eval_I-FAC_recall_micro': 0.7151162790697675,\n",
       " 'eval_I-FAC_precision_micro': 0.19040247678018576,\n",
       " 'eval_B-AGE_f1_micro': 0.8648648648648648,\n",
       " 'eval_B-AGE_recall_micro': 0.7619047619047619,\n",
       " 'eval_B-AGE_precision_micro': 1.0,\n",
       " 'eval_I-CITY_f1_micro': 0.10465116279069768,\n",
       " 'eval_I-CITY_recall_micro': 0.6428571428571429,\n",
       " 'eval_I-CITY_precision_micro': 0.056962025316455694,\n",
       " 'eval_B-WORK_OF_ART_f1_micro': 0.3157894736842105,\n",
       " 'eval_B-WORK_OF_ART_recall_micro': 0.375,\n",
       " 'eval_B-WORK_OF_ART_precision_micro': 0.2727272727272727,\n",
       " 'eval_I-WORK_OF_ART_f1_micro': 0.37209302325581395,\n",
       " 'eval_I-WORK_OF_ART_recall_micro': 0.5,\n",
       " 'eval_I-WORK_OF_ART_precision_micro': 0.2962962962962963,\n",
       " 'eval_B-REGION_f1_micro': 0.8070175438596491,\n",
       " 'eval_B-REGION_recall_micro': 0.773109243697479,\n",
       " 'eval_B-REGION_precision_micro': 0.8440366972477065,\n",
       " 'eval_I-REGION_f1_micro': 0.2816901408450704,\n",
       " 'eval_I-REGION_recall_micro': 0.819672131147541,\n",
       " 'eval_I-REGION_precision_micro': 0.17006802721088435,\n",
       " 'eval_I-CARDINAL_f1_micro': 0.38513513513513514,\n",
       " 'eval_I-CARDINAL_recall_micro': 0.4830508474576271,\n",
       " 'eval_I-CARDINAL_precision_micro': 0.3202247191011236,\n",
       " 'eval_I-CURRENCY_f1_micro': 0.0,\n",
       " 'eval_I-CURRENCY_recall_micro': 0.0,\n",
       " 'eval_I-CURRENCY_precision_micro': 0.0,\n",
       " 'eval_B-QUANTITY_f1_micro': 0.7310924369747899,\n",
       " 'eval_B-QUANTITY_recall_micro': 0.7310924369747899,\n",
       " 'eval_B-QUANTITY_precision_micro': 0.7310924369747899,\n",
       " 'eval_I-QUANTITY_f1_micro': 0.48888888888888893,\n",
       " 'eval_I-QUANTITY_recall_micro': 0.7988826815642458,\n",
       " 'eval_I-QUANTITY_precision_micro': 0.3522167487684729,\n",
       " 'eval_B-CRIME_f1_micro': 0.3736263736263736,\n",
       " 'eval_B-CRIME_recall_micro': 0.40476190476190477,\n",
       " 'eval_B-CRIME_precision_micro': 0.3469387755102041,\n",
       " 'eval_I-CRIME_f1_micro': 0.324468085106383,\n",
       " 'eval_I-CRIME_recall_micro': 0.5648148148148148,\n",
       " 'eval_I-CRIME_precision_micro': 0.22761194029850745,\n",
       " 'eval_B-TRADE_AGREEMENT_f1_micro': 0.7169811320754716,\n",
       " 'eval_B-TRADE_AGREEMENT_recall_micro': 0.7037037037037037,\n",
       " 'eval_B-TRADE_AGREEMENT_precision_micro': 0.7307692307692307,\n",
       " 'eval_B-NATIONALITY_f1_micro': 0.0,\n",
       " 'eval_B-NATIONALITY_recall_micro': 0.0,\n",
       " 'eval_B-NATIONALITY_precision_micro': 0.0,\n",
       " 'eval_B-FAMILY_f1_micro': 0.5,\n",
       " 'eval_B-FAMILY_recall_micro': 0.8888888888888888,\n",
       " 'eval_B-FAMILY_precision_micro': 0.34782608695652173,\n",
       " 'eval_I-FAMILY_f1_micro': 0.0,\n",
       " 'eval_I-FAMILY_recall_micro': 0.0,\n",
       " 'eval_I-FAMILY_precision_micro': 0.0,\n",
       " 'eval_I-PRODUCT_f1_micro': 0.20209059233449478,\n",
       " 'eval_I-PRODUCT_recall_micro': 0.6823529411764706,\n",
       " 'eval_I-PRODUCT_precision_micro': 0.11860940695296524,\n",
       " 'eval_B-TIME_f1_micro': 0.6538461538461539,\n",
       " 'eval_B-TIME_recall_micro': 0.6296296296296297,\n",
       " 'eval_B-TIME_precision_micro': 0.68,\n",
       " 'eval_I-TIME_f1_micro': 0.611764705882353,\n",
       " 'eval_I-TIME_recall_micro': 0.9811320754716981,\n",
       " 'eval_I-TIME_precision_micro': 0.4444444444444444,\n",
       " 'eval_I-COMMODITY_f1_micro': 0.044444444444444446,\n",
       " 'eval_I-COMMODITY_recall_micro': 0.16666666666666666,\n",
       " 'eval_I-COMMODITY_precision_micro': 0.02564102564102564,\n",
       " 'eval_B-APPLICATION_f1_micro': 0.0,\n",
       " 'eval_B-APPLICATION_recall_micro': 0.0,\n",
       " 'eval_B-APPLICATION_precision_micro': 0.0,\n",
       " 'eval_I-APPLICATION_f1_micro': 0.0,\n",
       " 'eval_I-APPLICATION_recall_micro': 0.0,\n",
       " 'eval_I-APPLICATION_precision_micro': 0.0,\n",
       " 'eval_I-COUNTRY_f1_micro': 0.1694915254237288,\n",
       " 'eval_I-COUNTRY_recall_micro': 0.7894736842105263,\n",
       " 'eval_I-COUNTRY_precision_micro': 0.0949367088607595,\n",
       " 'eval_B-AWARD_f1_micro': 0.5454545454545455,\n",
       " 'eval_B-AWARD_recall_micro': 0.46153846153846156,\n",
       " 'eval_B-AWARD_precision_micro': 0.6666666666666666,\n",
       " 'eval_I-AWARD_f1_micro': 0.44594594594594594,\n",
       " 'eval_I-AWARD_recall_micro': 0.8048780487804879,\n",
       " 'eval_I-AWARD_precision_micro': 0.308411214953271,\n",
       " 'eval_I-GPE_f1_micro': 0.3283582089552239,\n",
       " 'eval_I-GPE_recall_micro': 0.9166666666666666,\n",
       " 'eval_I-GPE_precision_micro': 0.2,\n",
       " 'eval_B-LOCATION_f1_micro': 0.4885496183206106,\n",
       " 'eval_B-LOCATION_recall_micro': 0.5161290322580645,\n",
       " 'eval_B-LOCATION_precision_micro': 0.463768115942029,\n",
       " 'eval_I-LOCATION_f1_micro': 0.31893687707641194,\n",
       " 'eval_I-LOCATION_recall_micro': 0.631578947368421,\n",
       " 'eval_I-LOCATION_precision_micro': 0.21333333333333335,\n",
       " 'eval_I-ORDINAL_f1_micro': 0.5,\n",
       " 'eval_I-ORDINAL_recall_micro': 0.4,\n",
       " 'eval_I-ORDINAL_precision_micro': 0.6666666666666666,\n",
       " 'eval_I-TRADE_AGREEMENT_f1_micro': 0.11627906976744186,\n",
       " 'eval_I-TRADE_AGREEMENT_recall_micro': 0.38461538461538464,\n",
       " 'eval_I-TRADE_AGREEMENT_precision_micro': 0.0684931506849315,\n",
       " 'eval_B-RELIGION_f1_micro': 0.0,\n",
       " 'eval_B-RELIGION_recall_micro': 0.0,\n",
       " 'eval_B-RELIGION_precision_micro': 0.0,\n",
       " 'eval_I-AGE_f1_micro': 0.4324324324324324,\n",
       " 'eval_I-AGE_recall_micro': 0.5714285714285714,\n",
       " 'eval_I-AGE_precision_micro': 0.34782608695652173,\n",
       " 'eval_B-INVESTMENT_PROGRAM_f1_micro': 0.0,\n",
       " 'eval_B-INVESTMENT_PROGRAM_recall_micro': 0.0,\n",
       " 'eval_B-INVESTMENT_PROGRAM_precision_micro': 0.0,\n",
       " 'eval_I-INVESTMENT_PROGRAM_f1_micro': 0.0,\n",
       " 'eval_I-INVESTMENT_PROGRAM_recall_micro': 0.0,\n",
       " 'eval_I-INVESTMENT_PROGRAM_precision_micro': 0.0,\n",
       " 'eval_B-BOROUGH_f1_micro': 0.7058823529411765,\n",
       " 'eval_B-BOROUGH_recall_micro': 0.6666666666666666,\n",
       " 'eval_B-BOROUGH_precision_micro': 0.75,\n",
       " 'eval_B-PRICE_f1_micro': 0.0,\n",
       " 'eval_B-PRICE_recall_micro': 0.0,\n",
       " 'eval_B-PRICE_precision_micro': 0.0,\n",
       " 'eval_I-PRICE_f1_micro': 0.0,\n",
       " 'eval_I-PRICE_recall_micro': 0.0,\n",
       " 'eval_I-PRICE_precision_micro': 0.0,\n",
       " 'eval_B-CHARACTER_f1_micro': 0.0,\n",
       " 'eval_B-CHARACTER_recall_micro': 0.0,\n",
       " 'eval_B-CHARACTER_precision_micro': 0.0,\n",
       " 'eval_I-CHARACTER_f1_micro': 0.0,\n",
       " 'eval_I-CHARACTER_recall_micro': 0.0,\n",
       " 'eval_I-CHARACTER_precision_micro': 0.0,\n",
       " 'eval_B-WEBSITE_f1_micro': 0.0,\n",
       " 'eval_B-WEBSITE_recall_micro': 0.0,\n",
       " 'eval_B-WEBSITE_precision_micro': 0.0,\n",
       " 'eval_B-STREET_f1_micro': 0.39999999999999997,\n",
       " 'eval_B-STREET_recall_micro': 0.42857142857142855,\n",
       " 'eval_B-STREET_precision_micro': 0.375,\n",
       " 'eval_I-STREET_f1_micro': 0.32558139534883723,\n",
       " 'eval_I-STREET_recall_micro': 1.0,\n",
       " 'eval_I-STREET_precision_micro': 0.19444444444444445,\n",
       " 'eval_B-VILLAGE_f1_micro': 0.6666666666666666,\n",
       " 'eval_B-VILLAGE_recall_micro': 0.7,\n",
       " 'eval_B-VILLAGE_precision_micro': 0.6363636363636364,\n",
       " 'eval_I-VILLAGE_f1_micro': 0.22222222222222224,\n",
       " 'eval_I-VILLAGE_recall_micro': 0.875,\n",
       " 'eval_I-VILLAGE_precision_micro': 0.12727272727272726,\n",
       " 'eval_B-DISEASE_f1_micro': 0.5964912280701754,\n",
       " 'eval_B-DISEASE_recall_micro': 0.7083333333333334,\n",
       " 'eval_B-DISEASE_precision_micro': 0.5151515151515151,\n",
       " 'eval_I-DISEASE_f1_micro': 0.37037037037037046,\n",
       " 'eval_I-DISEASE_recall_micro': 0.78125,\n",
       " 'eval_I-DISEASE_precision_micro': 0.24271844660194175,\n",
       " 'eval_B-PENALTY_f1_micro': 0.15789473684210525,\n",
       " 'eval_B-PENALTY_recall_micro': 0.15789473684210525,\n",
       " 'eval_B-PENALTY_precision_micro': 0.15789473684210525,\n",
       " 'eval_I-PENALTY_f1_micro': 0.16736401673640167,\n",
       " 'eval_I-PENALTY_recall_micro': 0.31746031746031744,\n",
       " 'eval_I-PENALTY_precision_micro': 0.11363636363636363,\n",
       " 'eval_B-WEAPON_f1_micro': 0.6715328467153284,\n",
       " 'eval_B-WEAPON_recall_micro': 0.7301587301587301,\n",
       " 'eval_B-WEAPON_precision_micro': 0.6216216216216216,\n",
       " 'eval_I-WEAPON_f1_micro': 0.24548736462093862,\n",
       " 'eval_I-WEAPON_recall_micro': 0.5964912280701754,\n",
       " 'eval_I-WEAPON_precision_micro': 0.15454545454545454,\n",
       " 'eval_I-BOROUGH_f1_micro': 0.4090909090909091,\n",
       " 'eval_I-BOROUGH_recall_micro': 0.6923076923076923,\n",
       " 'eval_I-BOROUGH_precision_micro': 0.2903225806451613,\n",
       " 'eval_B-VEHICLE_f1_micro': 0.6349206349206349,\n",
       " 'eval_B-VEHICLE_recall_micro': 0.5882352941176471,\n",
       " 'eval_B-VEHICLE_precision_micro': 0.6896551724137931,\n",
       " 'eval_I-VEHICLE_f1_micro': 0.41739130434782606,\n",
       " 'eval_I-VEHICLE_recall_micro': 0.7272727272727273,\n",
       " 'eval_I-VEHICLE_precision_micro': 0.2926829268292683,\n",
       " 'eval_B-LANGUAGE_f1_micro': 0.0,\n",
       " 'eval_B-LANGUAGE_recall_micro': 0.0,\n",
       " 'eval_B-LANGUAGE_precision_micro': 0.0,\n",
       " 'eval_I-LANGUAGE_f1_micro': 0.0,\n",
       " 'eval_I-LANGUAGE_recall_micro': 0.0,\n",
       " 'eval_I-LANGUAGE_precision_micro': 0.0,\n",
       " 'eval_B-HOUSE_f1_micro': 0.0,\n",
       " 'eval_B-HOUSE_recall_micro': 0.0,\n",
       " 'eval_B-HOUSE_precision_micro': 0.0,\n",
       " 'eval_I-NORP_f1_micro': 0.0,\n",
       " 'eval_I-NORP_recall_micro': 0.0,\n",
       " 'eval_I-NORP_precision_micro': 0.0,\n",
       " 'eval_I-HOUSE_f1_micro': 0.0,\n",
       " 'eval_I-HOUSE_recall_micro': 0.0,\n",
       " 'eval_I-HOUSE_precision_micro': 0.0,\n",
       " 'eval_I-WEBSITE_f1_micro': 0.0,\n",
       " 'eval_I-WEBSITE_recall_micro': 0.0,\n",
       " 'eval_I-WEBSITE_precision_micro': 0.0,\n",
       " 'eval_f1_macro': 0.39691701317688455,\n",
       " 'eval_recall_macro': 0.5603176150432161,\n",
       " 'eval_precision_macro': 0.3447310372698812,\n",
       " 'eval_runtime': 42.3584,\n",
       " 'eval_samples_per_second': 31.635,\n",
       " 'eval_steps_per_second': 7.909,\n",
       " 'epoch': 5.0}"
      ]
     },
     "execution_count": 35,
     "metadata": {},
     "output_type": "execute_result"
    }
   ],
   "source": [
    "trainer.evaluate()"
   ]
  },
  {
   "cell_type": "code",
   "execution_count": 124,
   "metadata": {
    "id": "xBe7cY4EtHE9"
   },
   "outputs": [
    {
     "name": "stdout",
     "output_type": "stream",
     "text": [
      "[['Газпром', ['B-ORGANIZATION']], ['продает', ['O']], ['нефть', ['B-COMMODITY']], ['Украине', ['B-COUNTRY']]]\n",
      "--------------------------------------------------------------------------------\n",
      "--------------------------------------------------------------------------------\n",
      "\n",
      "[['Согласно', ['O']], ['Reuters', ['B-ORGANIZATION']], ['продажа', ['O']], ['газа', ['B-COMMODITY']], ['Россией', ['B-COUNTRY']], ['упала', ['O']], ['на', ['B-PERCENT']], ['4%.', ['I-PERCENT']]]\n",
      "--------------------------------------------------------------------------------\n",
      "--------------------------------------------------------------------------------\n",
      "\n",
      "[['IPhone', ['B-PRODUCT']], ['10', ['I-PRODUCT']], ['-', ['O']], ['последняя', ['O']], ['модель', ['O']], ['от', ['O']], ['Apple', ['B-ORGANIZATION']]]\n",
      "--------------------------------------------------------------------------------\n",
      "--------------------------------------------------------------------------------\n",
      "\n",
      "[['Рогозин', ['B-PERSON', 'B-NEWS_SOURCE']], ['объявил', ['I-NEWS_SOURCE']], ['о', ['I-NEWS_SOURCE']], ['завершении', ['B-EVENT']], ['военной', ['B-EVENT', 'I-EVENT']], ['операции', ['I-EVENT']], ['в', ['O', 'B-COUNTRY']], ['Сирии', ['B-COUNTRY']]]\n",
      "--------------------------------------------------------------------------------\n",
      "--------------------------------------------------------------------------------\n",
      "\n",
      "[['Число', ['O']], ['рабочих', ['O']], ['мест', ['O']], ['в', ['O']], ['Санкт-Петербурге', ['B-CITY']], ['будет', ['O']], ['увеличено', ['O']], ['на', ['B-QUANTITY']], ['1000', ['I-QUANTITY']], ['в', ['O']], ['связи', ['O']], ['с', ['O']], ['вовзедением', ['O']], ['завода', ['B-ORGANIZATION']], ['Уралзаводвагмаш', ['I-ORGANIZATION']]]\n",
      "--------------------------------------------------------------------------------\n",
      "--------------------------------------------------------------------------------\n",
      "\n"
     ]
    }
   ],
   "source": [
    "texts = [\n",
    "    \"Газпром продает нефть Украине\",\n",
    "    \"Согласно Reuters продажа газа Россией упала на 4%.\",\n",
    "    \"IPhone 10 - последняя модель от Apple\",\n",
    "    \"Рогозин объявил о завершении военной операции в Сирии\",\n",
    "    \"Число рабочих мест в Санкт-Петербурге будет увеличено на 1000 в связи с вовзедением завода Уралзаводвагмаш\"\n",
    "]\n",
    "for text in texts:\n",
    "    print(predict(text))\n",
    "    print((\"-\" * 80 + \"\\n\")*2)"
   ]
  },
  {
   "cell_type": "code",
   "execution_count": 96,
   "metadata": {
    "id": "LQDSAcLQomEV"
   },
   "outputs": [
    {
     "data": {
      "text/plain": [
       "[['Компания', ['B-ORGANIZATION']],\n",
       " ['«Читинские', ['I-ORGANIZATION']],\n",
       " ['ключи»', ['I-ORGANIZATION']],\n",
       " ['получила', ['O']],\n",
       " ['господдержку', ['I-INVESTMENT_PROGRAM']],\n",
       " ['и', ['O']],\n",
       " ['запустила', ['O']],\n",
       " ['производство', ['B-ECONOMIC_SECTOR']],\n",
       " ['«Колы»', ['B-PRODUCT']],\n",
       " ['для', ['O']],\n",
       " ['сохранения', ['O']],\n",
       " ['рабочих', ['O']],\n",
       " ['мест,', ['O']],\n",
       " ['сообщили', ['B-NEWS_SOURCE']],\n",
       " ['в', ['I-NEWS_SOURCE', 'B-ORGANIZATION']],\n",
       " ['пресс-службе', ['I-NEWS_SOURCE', 'I-ORGANIZATION']],\n",
       " ['министерства', ['I-NEWS_SOURCE', 'B-ORGANIZATION']],\n",
       " ['экономического', ['I-NEWS_SOURCE', 'I-ORGANIZATION']],\n",
       " ['развития', ['I-NEWS_SOURCE', 'I-ORGANIZATION']],\n",
       " ['Забайкальского', ['I-NEWS_SOURCE', 'B-REGION']],\n",
       " ['края.', ['I-NEWS_SOURCE', 'I-REGION']],\n",
       " ['По', ['B-NEWS_SOURCE']],\n",
       " ['словам', ['I-NEWS_SOURCE']],\n",
       " ['замминистра', ['B-PROFESSION', 'I-NEWS_SOURCE']],\n",
       " ['экономического', ['I-NEWS_SOURCE', 'I-PROFESSION']],\n",
       " ['развития', ['I-NEWS_SOURCE', 'I-PROFESSION']],\n",
       " ['Забайкалья', ['I-NEWS_SOURCE', 'B-REGION']],\n",
       " ['Дениса', ['B-PERSON', 'I-NEWS_SOURCE']],\n",
       " ['Рысева,', ['I-NEWS_SOURCE', 'I-PERSON']],\n",
       " ['у', ['O']],\n",
       " ['&laquo;Колы&raquo;', ['B-PRODUCT']],\n",
       " ['особенный', ['O']],\n",
       " ['вкус.', ['O']],\n",
       " ['На', ['O']],\n",
       " ['производстве', ['O']],\n",
       " ['уверяют,', ['O']],\n",
       " ['что', ['O']],\n",
       " ['используется', ['O']],\n",
       " ['секретный', ['O']],\n",
       " ['ингредиент.', ['O']],\n",
       " ['Как', ['O']],\n",
       " ['и', ['O']],\n",
       " ['у', ['O']],\n",
       " ['той', ['O']],\n",
       " ['&laquo;Кока-колы&raquo;,', ['B-PRODUCT']],\n",
       " ['известной', ['O']],\n",
       " ['на', ['O']],\n",
       " ['весь', ['O']],\n",
       " ['мир.', ['O']],\n",
       " ['Благодаря', ['O']],\n",
       " ['запуску', ['O']],\n",
       " ['нового', ['O']],\n",
       " ['производства', ['B-ECONOMIC_SECTOR']],\n",
       " ['компании', ['B-ORGANIZATION']],\n",
       " ['удалось', ['O']],\n",
       " ['сохранить', ['O']],\n",
       " ['241', ['B-QUANTITY']],\n",
       " ['сотрудника,', ['I-QUANTITY']],\n",
       " ['сообщает', ['B-NEWS_SOURCE']],\n",
       " ['РИА', ['I-NEWS_SOURCE', 'B-ORGANIZATION']],\n",
       " ['&laquo;Новости&raquo;.', ['I-NEWS_SOURCE', 'I-ORGANIZATION']],\n",
       " ['Уточняется,', ['O']],\n",
       " ['что', ['O']],\n",
       " ['первая', ['B-ORDINAL']],\n",
       " ['партия', ['O']],\n",
       " ['&laquo;Колы&raquo;', ['B-PRODUCT']],\n",
       " ['–', ['O']],\n",
       " ['900', ['B-CARDINAL']],\n",
       " ['упаковок', ['O']],\n",
       " ['была', ['O']],\n",
       " ['изготовлена', ['O']],\n",
       " ['5', ['B-DATE']],\n",
       " ['октября.', ['I-DATE']],\n",
       " ['В', ['B-DATE']],\n",
       " ['этот', ['I-DATE']],\n",
       " ['же', ['I-DATE']],\n",
       " ['день', ['I-DATE']],\n",
       " ['600', ['B-CARDINAL']],\n",
       " ['упаковок', ['O']],\n",
       " ['купили', ['O']],\n",
       " ['предприниматели', ['B-PROFESSION']],\n",
       " ['региона', ['O', 'I-PROFESSION']],\n",
       " ['для', ['O']],\n",
       " ['продажи', ['O']],\n",
       " ['в', ['O']],\n",
       " ['магазинах.', ['B-FAC']],\n",
       " ['&laquo;Это', ['O']],\n",
       " ['ожидаемый', ['O']],\n",
       " ['продукт', ['O']],\n",
       " ['в', ['O']],\n",
       " ['условиях', ['O']],\n",
       " ['импортозамещения.', ['O']],\n",
       " ['Скучали', ['O']],\n",
       " ['по', ['O']],\n",
       " ['&laquo;Кока-коле&raquo;?', ['B-PRODUCT']],\n",
       " ['Вот', ['O']],\n",
       " ['же', ['O']],\n",
       " ['она', ['O']],\n",
       " ['–&nbsp;только', ['O']],\n",
       " ['еще', ['O']],\n",
       " ['лучше,', ['O']],\n",
       " ['своя!', ['O']],\n",
       " ['Гарантийный', ['B-ORGANIZATION']],\n",
       " ['фонд', ['I-ORGANIZATION']],\n",
       " ['Забайкалья', ['B-REGION']],\n",
       " ['стал', ['O']],\n",
       " ['поручителем', ['O']],\n",
       " ['по', ['O']],\n",
       " ['кредиту', ['O']],\n",
       " ['для', ['O']],\n",
       " ['компании', ['B-ORGANIZATION']],\n",
       " ['&laquo;Читинские', ['B-ORGANIZATION']],\n",
       " ['ключи&raquo;.', ['I-ORGANIZATION']],\n",
       " ['Сумма', ['O']],\n",
       " ['поручительства', ['O']],\n",
       " ['25', ['B-MONEY']],\n",
       " ['миллионов', ['I-MONEY']],\n",
       " ['рублей,', ['I-MONEY', 'B-CURRENCY']],\n",
       " ['сумма', ['O']],\n",
       " ['кредита', ['O']],\n",
       " ['–&nbsp;почти', ['O']],\n",
       " ['50', ['I-MONEY']],\n",
       " ['миллионов', ['I-MONEY']],\n",
       " ['рублей&raquo;,', ['I-MONEY', 'B-CURRENCY']],\n",
       " ['–', ['O']],\n",
       " ['добавил', ['B-NEWS_SOURCE']],\n",
       " ['Рысев.', ['B-PERSON', 'I-NEWS_SOURCE']],\n",
       " ['Ранее', ['O']],\n",
       " ['сообщалось,', ['O']],\n",
       " ['что', ['O']],\n",
       " ['в', ['O']],\n",
       " ['Московской', ['B-REGION']],\n",
       " ['области', ['I-REGION']],\n",
       " ['планируется', ['O']],\n",
       " ['запустить', ['O']],\n",
       " ['новое', ['O']],\n",
       " ['производство', ['B-ECONOMIC_SECTOR']],\n",
       " ['компрессоров', ['I-ECONOMIC_SECTOR', 'B-PRODUCT']],\n",
       " ['и', ['I-PRODUCT']],\n",
       " ['фильтров', ['B-PRODUCT']],\n",
       " ['для', ['I-PRODUCT']],\n",
       " ['жидкостей,', ['I-PRODUCT']],\n",
       " ['этим', ['O']],\n",
       " ['займется', ['O']],\n",
       " ['компания', ['B-ORGANIZATION']],\n",
       " ['&laquo;Полинет&raquo;.', ['B-ORGANIZATION']]]"
      ]
     },
     "execution_count": 96,
     "metadata": {},
     "output_type": "execute_result"
    }
   ],
   "source": [
    "predict(\n",
    "    'Компания «Читинские ключи» получила господдержку и запустила производство «Колы» для сохранения рабочих мест, '\n",
    "    'сообщили в пресс-службе министерства экономического развития Забайкальского края. По словам замминистра экономического '\n",
    "    'развития Забайкалья Дениса Рысева, у &laquo;Колы&raquo; особенный вкус. На производстве уверяют, что используется секретный '\n",
    "    'ингредиент. Как и у той &laquo;Кока-колы&raquo;, известной на весь мир. Благодаря запуску нового производства компании удалось '\n",
    "    'сохранить 241 сотрудника, сообщает РИА &laquo;Новости&raquo;. Уточняется, что первая партия &laquo;Колы&raquo; – 900 упаковок '\n",
    "    'была изготовлена 5 октября. В этот же день 600 упаковок купили предприниматели региона для продажи в магазинах. &laquo;Это '\n",
    "    'ожидаемый продукт в условиях импортозамещения. Скучали по &laquo;Кока-коле&raquo;? Вот же она –&nbsp;только еще лучше, своя! '\n",
    "    'Гарантийный фонд Забайкалья стал поручителем по кредиту для компании &laquo;Читинские ключи&raquo;. Сумма поручительства 25 '\n",
    "    'миллионов рублей, сумма кредита –&nbsp;почти 50 миллионов рублей&raquo;, – добавил Рысев. Ранее сообщалось, что в Московской '\n",
    "    'области планируется запустить новое производство компрессоров и фильтров для жидкостей, этим займется компания &laquo;Полинет&raquo;.',)"
   ]
  },
  {
   "cell_type": "code",
   "execution_count": 92,
   "metadata": {
    "id": "Xds9h4ybpgxA"
   },
   "outputs": [
    {
     "data": {
      "text/plain": [
       "[['В', ['O']],\n",
       " ['Новосибирске', ['B-CITY']],\n",
       " ['задержали', ['O']],\n",
       " ['безработного', ['O']],\n",
       " ['жителя', ['O']],\n",
       " ['Томска,', ['B-CITY']],\n",
       " ['который', ['O']],\n",
       " ['продавал', ['I-CRIME']],\n",
       " ['наркотики', ['I-CRIME']],\n",
       " ['через', ['I-CRIME']],\n",
       " ['интернет-магазин', ['B-FAC']]]"
      ]
     },
     "execution_count": 92,
     "metadata": {},
     "output_type": "execute_result"
    }
   ],
   "source": [
    "predict('В Новосибирске задержали безработного жителя Томска, который продавал наркотики через интернет-магазин')"
   ]
  },
  {
   "cell_type": "code",
   "execution_count": 125,
   "metadata": {
    "id": "aeAJ5QD6ppIg"
   },
   "outputs": [
    {
     "data": {
      "text/plain": [
       "[['В', ['O']],\n",
       " ['России', ['B-COUNTRY']],\n",
       " ['стали', ['O']],\n",
       " ['заменять', ['O']],\n",
       " ['одежду', ['B-PRODUCT']],\n",
       " ['брендов', ['O']],\n",
       " ['H&M', ['B-ORGANIZATION']],\n",
       " ['и', ['O']],\n",
       " ['Zara', ['B-ORGANIZATION']],\n",
       " ['дорогими', ['O']],\n",
       " ['аналогами', ['O']],\n",
       " ['из', ['O']],\n",
       " ['Турции.', ['B-COUNTRY']],\n",
       " ['Об', ['O']],\n",
       " ['этом', ['O']],\n",
       " ['сообщает', ['B-NEWS_SOURCE']],\n",
       " ['издание', ['I-NEWS_SOURCE']],\n",
       " ['NEWS.ru.', ['I-NEWS_SOURCE', 'B-ORGANIZATION']],\n",
       " ['По', ['B-NEWS_SOURCE']],\n",
       " ['словам', ['I-NEWS_SOURCE']],\n",
       " ['анонимного', ['I-NEWS_SOURCE']],\n",
       " ['источника', ['I-NEWS_SOURCE']],\n",
       " ['портала,', ['I-NEWS_SOURCE']],\n",
       " ['среди', ['O']],\n",
       " ['подобных', ['O']],\n",
       " ['альтернатив', ['O']],\n",
       " ['оказались', ['O']],\n",
       " ['такие', ['O']],\n",
       " ['турецкие', ['B-COUNTRY']],\n",
       " ['марки,', ['O']],\n",
       " ['как', ['O']],\n",
       " ['Perspective,', ['B-PRODUCT']],\n",
       " ['Ketroy', ['B-PRODUCT']],\n",
       " ['и', ['O']],\n",
       " ['Mexx,', ['B-PRODUCT']],\n",
       " ['магазины', ['B-FAC']],\n",
       " ['которого', ['O']],\n",
       " ['закрылись', ['O']],\n",
       " ['в', ['O']],\n",
       " ['стране', ['O']],\n",
       " ['в', ['B-DATE']],\n",
       " ['2017', ['I-DATE']],\n",
       " ['году', ['I-DATE']],\n",
       " ['из-за', ['O']],\n",
       " ['нерентабельности.', ['O']]]"
      ]
     },
     "execution_count": 125,
     "metadata": {},
     "output_type": "execute_result"
    }
   ],
   "source": [
    "predict('В России стали заменять одежду брендов H&M и Zara дорогими аналогами из Турции. Об этом сообщает издание NEWS.ru. По словам анонимного источника портала, среди подобных альтернатив оказались такие турецкие марки, как Perspective, Ketroy и Mexx, магазины которого закрылись в стране в 2017 году из-за нерентабельности.')"
   ]
  },
  {
   "cell_type": "code",
   "execution_count": 45,
   "metadata": {},
   "outputs": [],
   "source": [
    "import huggingface_hub"
   ]
  },
  {
   "cell_type": "code",
   "execution_count": 48,
   "metadata": {},
   "outputs": [],
   "source": [
    "huggingface_hub.login()"
   ]
  },
  {
   "cell_type": "code",
   "execution_count": 49,
   "metadata": {},
   "outputs": [
    {
     "data": {
      "text/plain": [
       "RepoUrl('https://huggingface.co/denis-gordeev/rured2-ner-microsoft-mdeberta-v3-base', endpoint='https://huggingface.co', repo_type='model', repo_id='denis-gordeev/rured2-ner-microsoft-mdeberta-v3-base')"
      ]
     },
     "execution_count": 49,
     "metadata": {},
     "output_type": "execute_result"
    }
   ],
   "source": [
    "from huggingface_hub import create_repo\n",
    "create_repo(\"denis-gordeev/rured2-ner-microsoft-mdeberta-v3-base\")"
   ]
  },
  {
   "cell_type": "code",
   "execution_count": 107,
   "metadata": {},
   "outputs": [],
   "source": [
    "from glob import glob\n",
    "model_files = glob(\"bert_rured_training/*\")"
   ]
  },
  {
   "cell_type": "code",
   "execution_count": 108,
   "metadata": {},
   "outputs": [
    {
     "data": {
      "application/vnd.jupyter.widget-view+json": {
       "model_id": "417fb9e9360f43168ede86e6506aa331",
       "version_major": 2,
       "version_minor": 0
      },
      "text/plain": [
       "model.safetensors:   0%|          | 0.00/1.11G [00:00<?, ?B/s]"
      ]
     },
     "metadata": {},
     "output_type": "display_data"
    },
    {
     "data": {
      "application/vnd.jupyter.widget-view+json": {
       "model_id": "efc39df5f30541cd8e094bf3a380c2f5",
       "version_major": 2,
       "version_minor": 0
      },
      "text/plain": [
       "spm.model:   0%|          | 0.00/4.31M [00:00<?, ?B/s]"
      ]
     },
     "metadata": {},
     "output_type": "display_data"
    },
    {
     "data": {
      "application/vnd.jupyter.widget-view+json": {
       "model_id": "1ac32dc9accc441e8617d0fd25edf20c",
       "version_major": 2,
       "version_minor": 0
      },
      "text/plain": [
       "tokenizer.json:   0%|          | 0.00/16.3M [00:00<?, ?B/s]"
      ]
     },
     "metadata": {},
     "output_type": "display_data"
    },
    {
     "data": {
      "application/vnd.jupyter.widget-view+json": {
       "model_id": "51711e991e3b4ede884700badade3ca4",
       "version_major": 2,
       "version_minor": 0
      },
      "text/plain": [
       "training_args.bin:   0%|          | 0.00/4.54k [00:00<?, ?B/s]"
      ]
     },
     "metadata": {},
     "output_type": "display_data"
    }
   ],
   "source": [
    "from huggingface_hub import HfApi\n",
    "api = HfApi()\n",
    "for filename in model_files:\n",
    "    api.upload_file(\n",
    "        path_or_fileobj=filename,\n",
    "        path_in_repo=filename.split(\"/\")[-1],\n",
    "        repo_id=\"denis-gordeev/rured2-ner-microsoft-mdeberta-v3-base\",\n",
    "    )"
   ]
  },
  {
   "cell_type": "code",
   "execution_count": 98,
   "metadata": {},
   "outputs": [
    {
     "name": "stderr",
     "output_type": "stream",
     "text": [
      "huggingface/tokenizers: The current process just got forked, after parallelism has already been used. Disabling parallelism to avoid deadlocks...\n",
      "To disable this warning, you can either:\n",
      "\t- Avoid using `tokenizers` before the fork if possible\n",
      "\t- Explicitly set the environment variable TOKENIZERS_PARALLELISM=(true | false)\n"
     ]
    },
    {
     "name": "stdout",
     "output_type": "stream",
     "text": [
      "added_tokens.json  special_tokens_map.json  tokenizer_config.json\n",
      "config.json        spm.model                training_args.bin\n",
      "model.safetensors  tokenizer.json\n"
     ]
    }
   ],
   "source": [
    "ls bert_rured_training"
   ]
  },
  {
   "cell_type": "code",
   "execution_count": null,
   "metadata": {
    "id": "B5i07rZS7Jta"
   },
   "outputs": [],
   "source": [
    "!cp id_to_label.json multilabel_ner_rured2/\n",
    "!zip multilabel_ner_rured2_sept30_2022.zip multilabel_ner_rured2/*\n",
    "!cp multilabel_ner_rured2_sept30_2022.zip drive/MyDrive "
   ]
  }
 ],
 "metadata": {
  "accelerator": "GPU",
  "colab": {
   "provenance": []
  },
  "gpuClass": "standard",
  "kernelspec": {
   "display_name": "Python 3 (ipykernel)",
   "language": "python",
   "name": "python3"
  },
  "language_info": {
   "codemirror_mode": {
    "name": "ipython",
    "version": 3
   },
   "file_extension": ".py",
   "mimetype": "text/x-python",
   "name": "python",
   "nbconvert_exporter": "python",
   "pygments_lexer": "ipython3",
   "version": "3.10.13"
  },
  "widgets": {
   "application/vnd.jupyter.widget-state+json": {
    "00f9350b0ae049c4ae265e24ee38bb7c": {
     "model_module": "@jupyter-widgets/controls",
     "model_module_version": "1.5.0",
     "model_name": "HBoxModel",
     "state": {
      "_dom_classes": [],
      "_model_module": "@jupyter-widgets/controls",
      "_model_module_version": "1.5.0",
      "_model_name": "HBoxModel",
      "_view_count": null,
      "_view_module": "@jupyter-widgets/controls",
      "_view_module_version": "1.5.0",
      "_view_name": "HBoxView",
      "box_style": "",
      "children": [
       "IPY_MODEL_538316fa640f4ad387b8e936b39bf313",
       "IPY_MODEL_898cf92de7ad48ba827b265478427f26",
       "IPY_MODEL_4429069b88a043b9b67f53f40b229aa9"
      ],
      "layout": "IPY_MODEL_e71165ad05bb4a11a5abd4d38b65e42f"
     }
    },
    "023d17bd75c5446cb5310e6f30a4dc4e": {
     "model_module": "@jupyter-widgets/controls",
     "model_module_version": "1.5.0",
     "model_name": "HBoxModel",
     "state": {
      "_dom_classes": [],
      "_model_module": "@jupyter-widgets/controls",
      "_model_module_version": "1.5.0",
      "_model_name": "HBoxModel",
      "_view_count": null,
      "_view_module": "@jupyter-widgets/controls",
      "_view_module_version": "1.5.0",
      "_view_name": "HBoxView",
      "box_style": "",
      "children": [
       "IPY_MODEL_9a5cdfdf2e6c426aa48fe08be19d66b9",
       "IPY_MODEL_7956d60d9ec24719b56f602d96ac78d0",
       "IPY_MODEL_da5d560b02954f04985aab5d31af6ba7"
      ],
      "layout": "IPY_MODEL_c3f216146b57488ab2db5a589ad77108"
     }
    },
    "03954c68cead4824b2c8e49e8b969948": {
     "model_module": "@jupyter-widgets/controls",
     "model_module_version": "1.5.0",
     "model_name": "HBoxModel",
     "state": {
      "_dom_classes": [],
      "_model_module": "@jupyter-widgets/controls",
      "_model_module_version": "1.5.0",
      "_model_name": "HBoxModel",
      "_view_count": null,
      "_view_module": "@jupyter-widgets/controls",
      "_view_module_version": "1.5.0",
      "_view_name": "HBoxView",
      "box_style": "",
      "children": [
       "IPY_MODEL_83a4420aa8f64b2a8c7107d7aa8a6f7a",
       "IPY_MODEL_4e535bb5d4b34f6db3858a0cdadd8f19",
       "IPY_MODEL_9922e2b35336419e9083f7d17a146722"
      ],
      "layout": "IPY_MODEL_50ef20eee1774e22ab12af89212a31c8"
     }
    },
    "0673c0e4c9c046a99af9f27433ba1752": {
     "model_module": "@jupyter-widgets/base",
     "model_module_version": "1.2.0",
     "model_name": "LayoutModel",
     "state": {
      "_model_module": "@jupyter-widgets/base",
      "_model_module_version": "1.2.0",
      "_model_name": "LayoutModel",
      "_view_count": null,
      "_view_module": "@jupyter-widgets/base",
      "_view_module_version": "1.2.0",
      "_view_name": "LayoutView",
      "align_content": null,
      "align_items": null,
      "align_self": null,
      "border": null,
      "bottom": null,
      "display": null,
      "flex": null,
      "flex_flow": null,
      "grid_area": null,
      "grid_auto_columns": null,
      "grid_auto_flow": null,
      "grid_auto_rows": null,
      "grid_column": null,
      "grid_gap": null,
      "grid_row": null,
      "grid_template_areas": null,
      "grid_template_columns": null,
      "grid_template_rows": null,
      "height": null,
      "justify_content": null,
      "justify_items": null,
      "left": null,
      "margin": null,
      "max_height": null,
      "max_width": null,
      "min_height": null,
      "min_width": null,
      "object_fit": null,
      "object_position": null,
      "order": null,
      "overflow": null,
      "overflow_x": null,
      "overflow_y": null,
      "padding": null,
      "right": null,
      "top": null,
      "visibility": null,
      "width": null
     }
    },
    "0c26d568bfff42fdb7d7d2c0e8625993": {
     "model_module": "@jupyter-widgets/controls",
     "model_module_version": "1.5.0",
     "model_name": "ProgressStyleModel",
     "state": {
      "_model_module": "@jupyter-widgets/controls",
      "_model_module_version": "1.5.0",
      "_model_name": "ProgressStyleModel",
      "_view_count": null,
      "_view_module": "@jupyter-widgets/base",
      "_view_module_version": "1.2.0",
      "_view_name": "StyleView",
      "bar_color": null,
      "description_width": ""
     }
    },
    "12c8196e406b47a3ab2a54f5104f90ad": {
     "model_module": "@jupyter-widgets/base",
     "model_module_version": "1.2.0",
     "model_name": "LayoutModel",
     "state": {
      "_model_module": "@jupyter-widgets/base",
      "_model_module_version": "1.2.0",
      "_model_name": "LayoutModel",
      "_view_count": null,
      "_view_module": "@jupyter-widgets/base",
      "_view_module_version": "1.2.0",
      "_view_name": "LayoutView",
      "align_content": null,
      "align_items": null,
      "align_self": null,
      "border": null,
      "bottom": null,
      "display": null,
      "flex": null,
      "flex_flow": null,
      "grid_area": null,
      "grid_auto_columns": null,
      "grid_auto_flow": null,
      "grid_auto_rows": null,
      "grid_column": null,
      "grid_gap": null,
      "grid_row": null,
      "grid_template_areas": null,
      "grid_template_columns": null,
      "grid_template_rows": null,
      "height": null,
      "justify_content": null,
      "justify_items": null,
      "left": null,
      "margin": null,
      "max_height": null,
      "max_width": null,
      "min_height": null,
      "min_width": null,
      "object_fit": null,
      "object_position": null,
      "order": null,
      "overflow": null,
      "overflow_x": null,
      "overflow_y": null,
      "padding": null,
      "right": null,
      "top": null,
      "visibility": null,
      "width": null
     }
    },
    "1e7e08e3634343b3b23114842a9ebaf1": {
     "model_module": "@jupyter-widgets/base",
     "model_module_version": "1.2.0",
     "model_name": "LayoutModel",
     "state": {
      "_model_module": "@jupyter-widgets/base",
      "_model_module_version": "1.2.0",
      "_model_name": "LayoutModel",
      "_view_count": null,
      "_view_module": "@jupyter-widgets/base",
      "_view_module_version": "1.2.0",
      "_view_name": "LayoutView",
      "align_content": null,
      "align_items": null,
      "align_self": null,
      "border": null,
      "bottom": null,
      "display": null,
      "flex": null,
      "flex_flow": null,
      "grid_area": null,
      "grid_auto_columns": null,
      "grid_auto_flow": null,
      "grid_auto_rows": null,
      "grid_column": null,
      "grid_gap": null,
      "grid_row": null,
      "grid_template_areas": null,
      "grid_template_columns": null,
      "grid_template_rows": null,
      "height": null,
      "justify_content": null,
      "justify_items": null,
      "left": null,
      "margin": null,
      "max_height": null,
      "max_width": null,
      "min_height": null,
      "min_width": null,
      "object_fit": null,
      "object_position": null,
      "order": null,
      "overflow": null,
      "overflow_x": null,
      "overflow_y": null,
      "padding": null,
      "right": null,
      "top": null,
      "visibility": null,
      "width": null
     }
    },
    "268a8a58786a462782e2a77f0e742f90": {
     "model_module": "@jupyter-widgets/base",
     "model_module_version": "1.2.0",
     "model_name": "LayoutModel",
     "state": {
      "_model_module": "@jupyter-widgets/base",
      "_model_module_version": "1.2.0",
      "_model_name": "LayoutModel",
      "_view_count": null,
      "_view_module": "@jupyter-widgets/base",
      "_view_module_version": "1.2.0",
      "_view_name": "LayoutView",
      "align_content": null,
      "align_items": null,
      "align_self": null,
      "border": null,
      "bottom": null,
      "display": null,
      "flex": null,
      "flex_flow": null,
      "grid_area": null,
      "grid_auto_columns": null,
      "grid_auto_flow": null,
      "grid_auto_rows": null,
      "grid_column": null,
      "grid_gap": null,
      "grid_row": null,
      "grid_template_areas": null,
      "grid_template_columns": null,
      "grid_template_rows": null,
      "height": null,
      "justify_content": null,
      "justify_items": null,
      "left": null,
      "margin": null,
      "max_height": null,
      "max_width": null,
      "min_height": null,
      "min_width": null,
      "object_fit": null,
      "object_position": null,
      "order": null,
      "overflow": null,
      "overflow_x": null,
      "overflow_y": null,
      "padding": null,
      "right": null,
      "top": null,
      "visibility": null,
      "width": null
     }
    },
    "2baa3b6d974f482cb834750f29b980f9": {
     "model_module": "@jupyter-widgets/controls",
     "model_module_version": "1.5.0",
     "model_name": "DescriptionStyleModel",
     "state": {
      "_model_module": "@jupyter-widgets/controls",
      "_model_module_version": "1.5.0",
      "_model_name": "DescriptionStyleModel",
      "_view_count": null,
      "_view_module": "@jupyter-widgets/base",
      "_view_module_version": "1.2.0",
      "_view_name": "StyleView",
      "description_width": ""
     }
    },
    "2f2dd120f83b440d9bbf1fce74e92dd7": {
     "model_module": "@jupyter-widgets/base",
     "model_module_version": "1.2.0",
     "model_name": "LayoutModel",
     "state": {
      "_model_module": "@jupyter-widgets/base",
      "_model_module_version": "1.2.0",
      "_model_name": "LayoutModel",
      "_view_count": null,
      "_view_module": "@jupyter-widgets/base",
      "_view_module_version": "1.2.0",
      "_view_name": "LayoutView",
      "align_content": null,
      "align_items": null,
      "align_self": null,
      "border": null,
      "bottom": null,
      "display": null,
      "flex": null,
      "flex_flow": null,
      "grid_area": null,
      "grid_auto_columns": null,
      "grid_auto_flow": null,
      "grid_auto_rows": null,
      "grid_column": null,
      "grid_gap": null,
      "grid_row": null,
      "grid_template_areas": null,
      "grid_template_columns": null,
      "grid_template_rows": null,
      "height": null,
      "justify_content": null,
      "justify_items": null,
      "left": null,
      "margin": null,
      "max_height": null,
      "max_width": null,
      "min_height": null,
      "min_width": null,
      "object_fit": null,
      "object_position": null,
      "order": null,
      "overflow": null,
      "overflow_x": null,
      "overflow_y": null,
      "padding": null,
      "right": null,
      "top": null,
      "visibility": null,
      "width": null
     }
    },
    "3273dc673f964117972391a81600f856": {
     "model_module": "@jupyter-widgets/base",
     "model_module_version": "1.2.0",
     "model_name": "LayoutModel",
     "state": {
      "_model_module": "@jupyter-widgets/base",
      "_model_module_version": "1.2.0",
      "_model_name": "LayoutModel",
      "_view_count": null,
      "_view_module": "@jupyter-widgets/base",
      "_view_module_version": "1.2.0",
      "_view_name": "LayoutView",
      "align_content": null,
      "align_items": null,
      "align_self": null,
      "border": null,
      "bottom": null,
      "display": null,
      "flex": null,
      "flex_flow": null,
      "grid_area": null,
      "grid_auto_columns": null,
      "grid_auto_flow": null,
      "grid_auto_rows": null,
      "grid_column": null,
      "grid_gap": null,
      "grid_row": null,
      "grid_template_areas": null,
      "grid_template_columns": null,
      "grid_template_rows": null,
      "height": null,
      "justify_content": null,
      "justify_items": null,
      "left": null,
      "margin": null,
      "max_height": null,
      "max_width": null,
      "min_height": null,
      "min_width": null,
      "object_fit": null,
      "object_position": null,
      "order": null,
      "overflow": null,
      "overflow_x": null,
      "overflow_y": null,
      "padding": null,
      "right": null,
      "top": null,
      "visibility": null,
      "width": null
     }
    },
    "38e6fe6c5f8d4d7d9a03c0f10aa9a1aa": {
     "model_module": "@jupyter-widgets/controls",
     "model_module_version": "1.5.0",
     "model_name": "ProgressStyleModel",
     "state": {
      "_model_module": "@jupyter-widgets/controls",
      "_model_module_version": "1.5.0",
      "_model_name": "ProgressStyleModel",
      "_view_count": null,
      "_view_module": "@jupyter-widgets/base",
      "_view_module_version": "1.2.0",
      "_view_name": "StyleView",
      "bar_color": null,
      "description_width": ""
     }
    },
    "42a53792f7254b9b819f6b3c02d495b1": {
     "model_module": "@jupyter-widgets/controls",
     "model_module_version": "1.5.0",
     "model_name": "ProgressStyleModel",
     "state": {
      "_model_module": "@jupyter-widgets/controls",
      "_model_module_version": "1.5.0",
      "_model_name": "ProgressStyleModel",
      "_view_count": null,
      "_view_module": "@jupyter-widgets/base",
      "_view_module_version": "1.2.0",
      "_view_name": "StyleView",
      "bar_color": null,
      "description_width": ""
     }
    },
    "4429069b88a043b9b67f53f40b229aa9": {
     "model_module": "@jupyter-widgets/controls",
     "model_module_version": "1.5.0",
     "model_name": "HTMLModel",
     "state": {
      "_dom_classes": [],
      "_model_module": "@jupyter-widgets/controls",
      "_model_module_version": "1.5.0",
      "_model_name": "HTMLModel",
      "_view_count": null,
      "_view_module": "@jupyter-widgets/controls",
      "_view_module_version": "1.5.0",
      "_view_name": "HTMLView",
      "description": "",
      "description_tooltip": null,
      "layout": "IPY_MODEL_d1f26dcc1d8846ada6cd4f2f401a63fe",
      "placeholder": "​",
      "style": "IPY_MODEL_d0148c5ef31346fbb1d58a2074d21faf",
      "value": " 714M/714M [00:13&lt;00:00, 42.8MB/s]"
     }
    },
    "443581dafed94e859ddc03bb6361e733": {
     "model_module": "@jupyter-widgets/controls",
     "model_module_version": "1.5.0",
     "model_name": "DescriptionStyleModel",
     "state": {
      "_model_module": "@jupyter-widgets/controls",
      "_model_module_version": "1.5.0",
      "_model_name": "DescriptionStyleModel",
      "_view_count": null,
      "_view_module": "@jupyter-widgets/base",
      "_view_module_version": "1.2.0",
      "_view_name": "StyleView",
      "description_width": ""
     }
    },
    "4e535bb5d4b34f6db3858a0cdadd8f19": {
     "model_module": "@jupyter-widgets/controls",
     "model_module_version": "1.5.0",
     "model_name": "FloatProgressModel",
     "state": {
      "_dom_classes": [],
      "_model_module": "@jupyter-widgets/controls",
      "_model_module_version": "1.5.0",
      "_model_name": "FloatProgressModel",
      "_view_count": null,
      "_view_module": "@jupyter-widgets/controls",
      "_view_module_version": "1.5.0",
      "_view_name": "ProgressView",
      "bar_style": "success",
      "description": "",
      "description_tooltip": null,
      "layout": "IPY_MODEL_12c8196e406b47a3ab2a54f5104f90ad",
      "max": 995526,
      "min": 0,
      "orientation": "horizontal",
      "style": "IPY_MODEL_fd33bd7f1fa743b0bcb6e0c6d2856f72",
      "value": 995526
     }
    },
    "50ef20eee1774e22ab12af89212a31c8": {
     "model_module": "@jupyter-widgets/base",
     "model_module_version": "1.2.0",
     "model_name": "LayoutModel",
     "state": {
      "_model_module": "@jupyter-widgets/base",
      "_model_module_version": "1.2.0",
      "_model_name": "LayoutModel",
      "_view_count": null,
      "_view_module": "@jupyter-widgets/base",
      "_view_module_version": "1.2.0",
      "_view_name": "LayoutView",
      "align_content": null,
      "align_items": null,
      "align_self": null,
      "border": null,
      "bottom": null,
      "display": null,
      "flex": null,
      "flex_flow": null,
      "grid_area": null,
      "grid_auto_columns": null,
      "grid_auto_flow": null,
      "grid_auto_rows": null,
      "grid_column": null,
      "grid_gap": null,
      "grid_row": null,
      "grid_template_areas": null,
      "grid_template_columns": null,
      "grid_template_rows": null,
      "height": null,
      "justify_content": null,
      "justify_items": null,
      "left": null,
      "margin": null,
      "max_height": null,
      "max_width": null,
      "min_height": null,
      "min_width": null,
      "object_fit": null,
      "object_position": null,
      "order": null,
      "overflow": null,
      "overflow_x": null,
      "overflow_y": null,
      "padding": null,
      "right": null,
      "top": null,
      "visibility": null,
      "width": null
     }
    },
    "538316fa640f4ad387b8e936b39bf313": {
     "model_module": "@jupyter-widgets/controls",
     "model_module_version": "1.5.0",
     "model_name": "HTMLModel",
     "state": {
      "_dom_classes": [],
      "_model_module": "@jupyter-widgets/controls",
      "_model_module_version": "1.5.0",
      "_model_name": "HTMLModel",
      "_view_count": null,
      "_view_module": "@jupyter-widgets/controls",
      "_view_module_version": "1.5.0",
      "_view_name": "HTMLView",
      "description": "",
      "description_tooltip": null,
      "layout": "IPY_MODEL_5f9f470b77e54c08be48d3fdebfb57b7",
      "placeholder": "​",
      "style": "IPY_MODEL_443581dafed94e859ddc03bb6361e733",
      "value": "Downloading: 100%"
     }
    },
    "566f326137154ff882f445343ee16611": {
     "model_module": "@jupyter-widgets/base",
     "model_module_version": "1.2.0",
     "model_name": "LayoutModel",
     "state": {
      "_model_module": "@jupyter-widgets/base",
      "_model_module_version": "1.2.0",
      "_model_name": "LayoutModel",
      "_view_count": null,
      "_view_module": "@jupyter-widgets/base",
      "_view_module_version": "1.2.0",
      "_view_name": "LayoutView",
      "align_content": null,
      "align_items": null,
      "align_self": null,
      "border": null,
      "bottom": null,
      "display": null,
      "flex": null,
      "flex_flow": null,
      "grid_area": null,
      "grid_auto_columns": null,
      "grid_auto_flow": null,
      "grid_auto_rows": null,
      "grid_column": null,
      "grid_gap": null,
      "grid_row": null,
      "grid_template_areas": null,
      "grid_template_columns": null,
      "grid_template_rows": null,
      "height": null,
      "justify_content": null,
      "justify_items": null,
      "left": null,
      "margin": null,
      "max_height": null,
      "max_width": null,
      "min_height": null,
      "min_width": null,
      "object_fit": null,
      "object_position": null,
      "order": null,
      "overflow": null,
      "overflow_x": null,
      "overflow_y": null,
      "padding": null,
      "right": null,
      "top": null,
      "visibility": null,
      "width": null
     }
    },
    "59df57c490694997a37d5491b41fcaa2": {
     "model_module": "@jupyter-widgets/base",
     "model_module_version": "1.2.0",
     "model_name": "LayoutModel",
     "state": {
      "_model_module": "@jupyter-widgets/base",
      "_model_module_version": "1.2.0",
      "_model_name": "LayoutModel",
      "_view_count": null,
      "_view_module": "@jupyter-widgets/base",
      "_view_module_version": "1.2.0",
      "_view_name": "LayoutView",
      "align_content": null,
      "align_items": null,
      "align_self": null,
      "border": null,
      "bottom": null,
      "display": null,
      "flex": null,
      "flex_flow": null,
      "grid_area": null,
      "grid_auto_columns": null,
      "grid_auto_flow": null,
      "grid_auto_rows": null,
      "grid_column": null,
      "grid_gap": null,
      "grid_row": null,
      "grid_template_areas": null,
      "grid_template_columns": null,
      "grid_template_rows": null,
      "height": null,
      "justify_content": null,
      "justify_items": null,
      "left": null,
      "margin": null,
      "max_height": null,
      "max_width": null,
      "min_height": null,
      "min_width": null,
      "object_fit": null,
      "object_position": null,
      "order": null,
      "overflow": null,
      "overflow_x": null,
      "overflow_y": null,
      "padding": null,
      "right": null,
      "top": null,
      "visibility": null,
      "width": null
     }
    },
    "5f9f470b77e54c08be48d3fdebfb57b7": {
     "model_module": "@jupyter-widgets/base",
     "model_module_version": "1.2.0",
     "model_name": "LayoutModel",
     "state": {
      "_model_module": "@jupyter-widgets/base",
      "_model_module_version": "1.2.0",
      "_model_name": "LayoutModel",
      "_view_count": null,
      "_view_module": "@jupyter-widgets/base",
      "_view_module_version": "1.2.0",
      "_view_name": "LayoutView",
      "align_content": null,
      "align_items": null,
      "align_self": null,
      "border": null,
      "bottom": null,
      "display": null,
      "flex": null,
      "flex_flow": null,
      "grid_area": null,
      "grid_auto_columns": null,
      "grid_auto_flow": null,
      "grid_auto_rows": null,
      "grid_column": null,
      "grid_gap": null,
      "grid_row": null,
      "grid_template_areas": null,
      "grid_template_columns": null,
      "grid_template_rows": null,
      "height": null,
      "justify_content": null,
      "justify_items": null,
      "left": null,
      "margin": null,
      "max_height": null,
      "max_width": null,
      "min_height": null,
      "min_width": null,
      "object_fit": null,
      "object_position": null,
      "order": null,
      "overflow": null,
      "overflow_x": null,
      "overflow_y": null,
      "padding": null,
      "right": null,
      "top": null,
      "visibility": null,
      "width": null
     }
    },
    "630f39c18e4a41d69b735ea22c0b76c0": {
     "model_module": "@jupyter-widgets/controls",
     "model_module_version": "1.5.0",
     "model_name": "FloatProgressModel",
     "state": {
      "_dom_classes": [],
      "_model_module": "@jupyter-widgets/controls",
      "_model_module_version": "1.5.0",
      "_model_name": "FloatProgressModel",
      "_view_count": null,
      "_view_module": "@jupyter-widgets/controls",
      "_view_module_version": "1.5.0",
      "_view_name": "ProgressView",
      "bar_style": "success",
      "description": "",
      "description_tooltip": null,
      "layout": "IPY_MODEL_6b292500113b49f99076d6742b3e76a1",
      "max": 29,
      "min": 0,
      "orientation": "horizontal",
      "style": "IPY_MODEL_42a53792f7254b9b819f6b3c02d495b1",
      "value": 29
     }
    },
    "6b292500113b49f99076d6742b3e76a1": {
     "model_module": "@jupyter-widgets/base",
     "model_module_version": "1.2.0",
     "model_name": "LayoutModel",
     "state": {
      "_model_module": "@jupyter-widgets/base",
      "_model_module_version": "1.2.0",
      "_model_name": "LayoutModel",
      "_view_count": null,
      "_view_module": "@jupyter-widgets/base",
      "_view_module_version": "1.2.0",
      "_view_name": "LayoutView",
      "align_content": null,
      "align_items": null,
      "align_self": null,
      "border": null,
      "bottom": null,
      "display": null,
      "flex": null,
      "flex_flow": null,
      "grid_area": null,
      "grid_auto_columns": null,
      "grid_auto_flow": null,
      "grid_auto_rows": null,
      "grid_column": null,
      "grid_gap": null,
      "grid_row": null,
      "grid_template_areas": null,
      "grid_template_columns": null,
      "grid_template_rows": null,
      "height": null,
      "justify_content": null,
      "justify_items": null,
      "left": null,
      "margin": null,
      "max_height": null,
      "max_width": null,
      "min_height": null,
      "min_width": null,
      "object_fit": null,
      "object_position": null,
      "order": null,
      "overflow": null,
      "overflow_x": null,
      "overflow_y": null,
      "padding": null,
      "right": null,
      "top": null,
      "visibility": null,
      "width": null
     }
    },
    "6f7c7a3bb65c49ccb47f14b8cf10e6ad": {
     "model_module": "@jupyter-widgets/controls",
     "model_module_version": "1.5.0",
     "model_name": "HTMLModel",
     "state": {
      "_dom_classes": [],
      "_model_module": "@jupyter-widgets/controls",
      "_model_module_version": "1.5.0",
      "_model_name": "HTMLModel",
      "_view_count": null,
      "_view_module": "@jupyter-widgets/controls",
      "_view_module_version": "1.5.0",
      "_view_name": "HTMLView",
      "description": "",
      "description_tooltip": null,
      "layout": "IPY_MODEL_8871cc0087e64c4bb45daf656f1a871d",
      "placeholder": "​",
      "style": "IPY_MODEL_782c4b158fe540c7a3cd16cee88023d9",
      "value": "Downloading: 100%"
     }
    },
    "72aa30ce50454da093fadb6e98a5749e": {
     "model_module": "@jupyter-widgets/controls",
     "model_module_version": "1.5.0",
     "model_name": "HTMLModel",
     "state": {
      "_dom_classes": [],
      "_model_module": "@jupyter-widgets/controls",
      "_model_module_version": "1.5.0",
      "_model_name": "HTMLModel",
      "_view_count": null,
      "_view_module": "@jupyter-widgets/controls",
      "_view_module_version": "1.5.0",
      "_view_name": "HTMLView",
      "description": "",
      "description_tooltip": null,
      "layout": "IPY_MODEL_1e7e08e3634343b3b23114842a9ebaf1",
      "placeholder": "​",
      "style": "IPY_MODEL_2baa3b6d974f482cb834750f29b980f9",
      "value": "Downloading: 100%"
     }
    },
    "782c4b158fe540c7a3cd16cee88023d9": {
     "model_module": "@jupyter-widgets/controls",
     "model_module_version": "1.5.0",
     "model_name": "DescriptionStyleModel",
     "state": {
      "_model_module": "@jupyter-widgets/controls",
      "_model_module_version": "1.5.0",
      "_model_name": "DescriptionStyleModel",
      "_view_count": null,
      "_view_module": "@jupyter-widgets/base",
      "_view_module_version": "1.2.0",
      "_view_name": "StyleView",
      "description_width": ""
     }
    },
    "7956d60d9ec24719b56f602d96ac78d0": {
     "model_module": "@jupyter-widgets/controls",
     "model_module_version": "1.5.0",
     "model_name": "FloatProgressModel",
     "state": {
      "_dom_classes": [],
      "_model_module": "@jupyter-widgets/controls",
      "_model_module_version": "1.5.0",
      "_model_name": "FloatProgressModel",
      "_view_count": null,
      "_view_module": "@jupyter-widgets/controls",
      "_view_module_version": "1.5.0",
      "_view_name": "ProgressView",
      "bar_style": "success",
      "description": "",
      "description_tooltip": null,
      "layout": "IPY_MODEL_b8c8bdac286c472fab6ac1cc146cc1bb",
      "max": 625,
      "min": 0,
      "orientation": "horizontal",
      "style": "IPY_MODEL_38e6fe6c5f8d4d7d9a03c0f10aa9a1aa",
      "value": 625
     }
    },
    "836bb237a5034b70b58b622d5c21132e": {
     "model_module": "@jupyter-widgets/controls",
     "model_module_version": "1.5.0",
     "model_name": "HBoxModel",
     "state": {
      "_dom_classes": [],
      "_model_module": "@jupyter-widgets/controls",
      "_model_module_version": "1.5.0",
      "_model_name": "HBoxModel",
      "_view_count": null,
      "_view_module": "@jupyter-widgets/controls",
      "_view_module_version": "1.5.0",
      "_view_name": "HBoxView",
      "box_style": "",
      "children": [
       "IPY_MODEL_72aa30ce50454da093fadb6e98a5749e",
       "IPY_MODEL_630f39c18e4a41d69b735ea22c0b76c0",
       "IPY_MODEL_b1cb54078aa5457193621895e02efebd"
      ],
      "layout": "IPY_MODEL_2f2dd120f83b440d9bbf1fce74e92dd7"
     }
    },
    "83a4420aa8f64b2a8c7107d7aa8a6f7a": {
     "model_module": "@jupyter-widgets/controls",
     "model_module_version": "1.5.0",
     "model_name": "HTMLModel",
     "state": {
      "_dom_classes": [],
      "_model_module": "@jupyter-widgets/controls",
      "_model_module_version": "1.5.0",
      "_model_name": "HTMLModel",
      "_view_count": null,
      "_view_module": "@jupyter-widgets/controls",
      "_view_module_version": "1.5.0",
      "_view_name": "HTMLView",
      "description": "",
      "description_tooltip": null,
      "layout": "IPY_MODEL_566f326137154ff882f445343ee16611",
      "placeholder": "​",
      "style": "IPY_MODEL_df7ad42ede8f4a2bbfad21d7443cdc23",
      "value": "Downloading: 100%"
     }
    },
    "8871cc0087e64c4bb45daf656f1a871d": {
     "model_module": "@jupyter-widgets/base",
     "model_module_version": "1.2.0",
     "model_name": "LayoutModel",
     "state": {
      "_model_module": "@jupyter-widgets/base",
      "_model_module_version": "1.2.0",
      "_model_name": "LayoutModel",
      "_view_count": null,
      "_view_module": "@jupyter-widgets/base",
      "_view_module_version": "1.2.0",
      "_view_name": "LayoutView",
      "align_content": null,
      "align_items": null,
      "align_self": null,
      "border": null,
      "bottom": null,
      "display": null,
      "flex": null,
      "flex_flow": null,
      "grid_area": null,
      "grid_auto_columns": null,
      "grid_auto_flow": null,
      "grid_auto_rows": null,
      "grid_column": null,
      "grid_gap": null,
      "grid_row": null,
      "grid_template_areas": null,
      "grid_template_columns": null,
      "grid_template_rows": null,
      "height": null,
      "justify_content": null,
      "justify_items": null,
      "left": null,
      "margin": null,
      "max_height": null,
      "max_width": null,
      "min_height": null,
      "min_width": null,
      "object_fit": null,
      "object_position": null,
      "order": null,
      "overflow": null,
      "overflow_x": null,
      "overflow_y": null,
      "padding": null,
      "right": null,
      "top": null,
      "visibility": null,
      "width": null
     }
    },
    "88a558b0c1854452ac3f498835e3d849": {
     "model_module": "@jupyter-widgets/base",
     "model_module_version": "1.2.0",
     "model_name": "LayoutModel",
     "state": {
      "_model_module": "@jupyter-widgets/base",
      "_model_module_version": "1.2.0",
      "_model_name": "LayoutModel",
      "_view_count": null,
      "_view_module": "@jupyter-widgets/base",
      "_view_module_version": "1.2.0",
      "_view_name": "LayoutView",
      "align_content": null,
      "align_items": null,
      "align_self": null,
      "border": null,
      "bottom": null,
      "display": null,
      "flex": null,
      "flex_flow": null,
      "grid_area": null,
      "grid_auto_columns": null,
      "grid_auto_flow": null,
      "grid_auto_rows": null,
      "grid_column": null,
      "grid_gap": null,
      "grid_row": null,
      "grid_template_areas": null,
      "grid_template_columns": null,
      "grid_template_rows": null,
      "height": null,
      "justify_content": null,
      "justify_items": null,
      "left": null,
      "margin": null,
      "max_height": null,
      "max_width": null,
      "min_height": null,
      "min_width": null,
      "object_fit": null,
      "object_position": null,
      "order": null,
      "overflow": null,
      "overflow_x": null,
      "overflow_y": null,
      "padding": null,
      "right": null,
      "top": null,
      "visibility": null,
      "width": null
     }
    },
    "895cdf572bd04187b65174bc73667044": {
     "model_module": "@jupyter-widgets/controls",
     "model_module_version": "1.5.0",
     "model_name": "FloatProgressModel",
     "state": {
      "_dom_classes": [],
      "_model_module": "@jupyter-widgets/controls",
      "_model_module_version": "1.5.0",
      "_model_name": "FloatProgressModel",
      "_view_count": null,
      "_view_module": "@jupyter-widgets/controls",
      "_view_module_version": "1.5.0",
      "_view_name": "ProgressView",
      "bar_style": "success",
      "description": "",
      "description_tooltip": null,
      "layout": "IPY_MODEL_3273dc673f964117972391a81600f856",
      "max": 1961828,
      "min": 0,
      "orientation": "horizontal",
      "style": "IPY_MODEL_95061e173aa24a95b8a39da7ea3f1e67",
      "value": 1961828
     }
    },
    "898cf92de7ad48ba827b265478427f26": {
     "model_module": "@jupyter-widgets/controls",
     "model_module_version": "1.5.0",
     "model_name": "FloatProgressModel",
     "state": {
      "_dom_classes": [],
      "_model_module": "@jupyter-widgets/controls",
      "_model_module_version": "1.5.0",
      "_model_name": "FloatProgressModel",
      "_view_count": null,
      "_view_module": "@jupyter-widgets/controls",
      "_view_module_version": "1.5.0",
      "_view_name": "ProgressView",
      "bar_style": "success",
      "description": "",
      "description_tooltip": null,
      "layout": "IPY_MODEL_89debd5fabc44fbc9b39034b5ab8b389",
      "max": 714314041,
      "min": 0,
      "orientation": "horizontal",
      "style": "IPY_MODEL_0c26d568bfff42fdb7d7d2c0e8625993",
      "value": 714314041
     }
    },
    "89debd5fabc44fbc9b39034b5ab8b389": {
     "model_module": "@jupyter-widgets/base",
     "model_module_version": "1.2.0",
     "model_name": "LayoutModel",
     "state": {
      "_model_module": "@jupyter-widgets/base",
      "_model_module_version": "1.2.0",
      "_model_name": "LayoutModel",
      "_view_count": null,
      "_view_module": "@jupyter-widgets/base",
      "_view_module_version": "1.2.0",
      "_view_name": "LayoutView",
      "align_content": null,
      "align_items": null,
      "align_self": null,
      "border": null,
      "bottom": null,
      "display": null,
      "flex": null,
      "flex_flow": null,
      "grid_area": null,
      "grid_auto_columns": null,
      "grid_auto_flow": null,
      "grid_auto_rows": null,
      "grid_column": null,
      "grid_gap": null,
      "grid_row": null,
      "grid_template_areas": null,
      "grid_template_columns": null,
      "grid_template_rows": null,
      "height": null,
      "justify_content": null,
      "justify_items": null,
      "left": null,
      "margin": null,
      "max_height": null,
      "max_width": null,
      "min_height": null,
      "min_width": null,
      "object_fit": null,
      "object_position": null,
      "order": null,
      "overflow": null,
      "overflow_x": null,
      "overflow_y": null,
      "padding": null,
      "right": null,
      "top": null,
      "visibility": null,
      "width": null
     }
    },
    "8e4a5af87b9e48488092cb51a2d3fe2a": {
     "model_module": "@jupyter-widgets/base",
     "model_module_version": "1.2.0",
     "model_name": "LayoutModel",
     "state": {
      "_model_module": "@jupyter-widgets/base",
      "_model_module_version": "1.2.0",
      "_model_name": "LayoutModel",
      "_view_count": null,
      "_view_module": "@jupyter-widgets/base",
      "_view_module_version": "1.2.0",
      "_view_name": "LayoutView",
      "align_content": null,
      "align_items": null,
      "align_self": null,
      "border": null,
      "bottom": null,
      "display": null,
      "flex": null,
      "flex_flow": null,
      "grid_area": null,
      "grid_auto_columns": null,
      "grid_auto_flow": null,
      "grid_auto_rows": null,
      "grid_column": null,
      "grid_gap": null,
      "grid_row": null,
      "grid_template_areas": null,
      "grid_template_columns": null,
      "grid_template_rows": null,
      "height": null,
      "justify_content": null,
      "justify_items": null,
      "left": null,
      "margin": null,
      "max_height": null,
      "max_width": null,
      "min_height": null,
      "min_width": null,
      "object_fit": null,
      "object_position": null,
      "order": null,
      "overflow": null,
      "overflow_x": null,
      "overflow_y": null,
      "padding": null,
      "right": null,
      "top": null,
      "visibility": null,
      "width": null
     }
    },
    "8ed10228d3ea43c191d3c6ce1fddc8a6": {
     "model_module": "@jupyter-widgets/controls",
     "model_module_version": "1.5.0",
     "model_name": "DescriptionStyleModel",
     "state": {
      "_model_module": "@jupyter-widgets/controls",
      "_model_module_version": "1.5.0",
      "_model_name": "DescriptionStyleModel",
      "_view_count": null,
      "_view_module": "@jupyter-widgets/base",
      "_view_module_version": "1.2.0",
      "_view_name": "StyleView",
      "description_width": ""
     }
    },
    "90a79d6444fc4dfaba0e99e1fd80ea85": {
     "model_module": "@jupyter-widgets/controls",
     "model_module_version": "1.5.0",
     "model_name": "HTMLModel",
     "state": {
      "_dom_classes": [],
      "_model_module": "@jupyter-widgets/controls",
      "_model_module_version": "1.5.0",
      "_model_name": "HTMLModel",
      "_view_count": null,
      "_view_module": "@jupyter-widgets/controls",
      "_view_module_version": "1.5.0",
      "_view_name": "HTMLView",
      "description": "",
      "description_tooltip": null,
      "layout": "IPY_MODEL_88a558b0c1854452ac3f498835e3d849",
      "placeholder": "​",
      "style": "IPY_MODEL_982db62c2e284acf98216b75380e23e2",
      "value": " 1.96M/1.96M [00:00&lt;00:00, 6.09MB/s]"
     }
    },
    "95061e173aa24a95b8a39da7ea3f1e67": {
     "model_module": "@jupyter-widgets/controls",
     "model_module_version": "1.5.0",
     "model_name": "ProgressStyleModel",
     "state": {
      "_model_module": "@jupyter-widgets/controls",
      "_model_module_version": "1.5.0",
      "_model_name": "ProgressStyleModel",
      "_view_count": null,
      "_view_module": "@jupyter-widgets/base",
      "_view_module_version": "1.2.0",
      "_view_name": "StyleView",
      "bar_color": null,
      "description_width": ""
     }
    },
    "982db62c2e284acf98216b75380e23e2": {
     "model_module": "@jupyter-widgets/controls",
     "model_module_version": "1.5.0",
     "model_name": "DescriptionStyleModel",
     "state": {
      "_model_module": "@jupyter-widgets/controls",
      "_model_module_version": "1.5.0",
      "_model_name": "DescriptionStyleModel",
      "_view_count": null,
      "_view_module": "@jupyter-widgets/base",
      "_view_module_version": "1.2.0",
      "_view_name": "StyleView",
      "description_width": ""
     }
    },
    "9922e2b35336419e9083f7d17a146722": {
     "model_module": "@jupyter-widgets/controls",
     "model_module_version": "1.5.0",
     "model_name": "HTMLModel",
     "state": {
      "_dom_classes": [],
      "_model_module": "@jupyter-widgets/controls",
      "_model_module_version": "1.5.0",
      "_model_name": "HTMLModel",
      "_view_count": null,
      "_view_module": "@jupyter-widgets/controls",
      "_view_module_version": "1.5.0",
      "_view_name": "HTMLView",
      "description": "",
      "description_tooltip": null,
      "layout": "IPY_MODEL_c77e1c356a7a445f9aa0794e0cdacfab",
      "placeholder": "​",
      "style": "IPY_MODEL_e016d41e48c844aea0a4a67a75458102",
      "value": " 996k/996k [00:00&lt;00:00, 1.63MB/s]"
     }
    },
    "9a5cdfdf2e6c426aa48fe08be19d66b9": {
     "model_module": "@jupyter-widgets/controls",
     "model_module_version": "1.5.0",
     "model_name": "HTMLModel",
     "state": {
      "_dom_classes": [],
      "_model_module": "@jupyter-widgets/controls",
      "_model_module_version": "1.5.0",
      "_model_name": "HTMLModel",
      "_view_count": null,
      "_view_module": "@jupyter-widgets/controls",
      "_view_module_version": "1.5.0",
      "_view_name": "HTMLView",
      "description": "",
      "description_tooltip": null,
      "layout": "IPY_MODEL_268a8a58786a462782e2a77f0e742f90",
      "placeholder": "​",
      "style": "IPY_MODEL_f1aab3259d854913a449f10dd43b191b",
      "value": "Downloading: 100%"
     }
    },
    "b1cb54078aa5457193621895e02efebd": {
     "model_module": "@jupyter-widgets/controls",
     "model_module_version": "1.5.0",
     "model_name": "HTMLModel",
     "state": {
      "_dom_classes": [],
      "_model_module": "@jupyter-widgets/controls",
      "_model_module_version": "1.5.0",
      "_model_name": "HTMLModel",
      "_view_count": null,
      "_view_module": "@jupyter-widgets/controls",
      "_view_module_version": "1.5.0",
      "_view_name": "HTMLView",
      "description": "",
      "description_tooltip": null,
      "layout": "IPY_MODEL_8e4a5af87b9e48488092cb51a2d3fe2a",
      "placeholder": "​",
      "style": "IPY_MODEL_8ed10228d3ea43c191d3c6ce1fddc8a6",
      "value": " 29.0/29.0 [00:00&lt;00:00, 271B/s]"
     }
    },
    "b8c8bdac286c472fab6ac1cc146cc1bb": {
     "model_module": "@jupyter-widgets/base",
     "model_module_version": "1.2.0",
     "model_name": "LayoutModel",
     "state": {
      "_model_module": "@jupyter-widgets/base",
      "_model_module_version": "1.2.0",
      "_model_name": "LayoutModel",
      "_view_count": null,
      "_view_module": "@jupyter-widgets/base",
      "_view_module_version": "1.2.0",
      "_view_name": "LayoutView",
      "align_content": null,
      "align_items": null,
      "align_self": null,
      "border": null,
      "bottom": null,
      "display": null,
      "flex": null,
      "flex_flow": null,
      "grid_area": null,
      "grid_auto_columns": null,
      "grid_auto_flow": null,
      "grid_auto_rows": null,
      "grid_column": null,
      "grid_gap": null,
      "grid_row": null,
      "grid_template_areas": null,
      "grid_template_columns": null,
      "grid_template_rows": null,
      "height": null,
      "justify_content": null,
      "justify_items": null,
      "left": null,
      "margin": null,
      "max_height": null,
      "max_width": null,
      "min_height": null,
      "min_width": null,
      "object_fit": null,
      "object_position": null,
      "order": null,
      "overflow": null,
      "overflow_x": null,
      "overflow_y": null,
      "padding": null,
      "right": null,
      "top": null,
      "visibility": null,
      "width": null
     }
    },
    "c3f216146b57488ab2db5a589ad77108": {
     "model_module": "@jupyter-widgets/base",
     "model_module_version": "1.2.0",
     "model_name": "LayoutModel",
     "state": {
      "_model_module": "@jupyter-widgets/base",
      "_model_module_version": "1.2.0",
      "_model_name": "LayoutModel",
      "_view_count": null,
      "_view_module": "@jupyter-widgets/base",
      "_view_module_version": "1.2.0",
      "_view_name": "LayoutView",
      "align_content": null,
      "align_items": null,
      "align_self": null,
      "border": null,
      "bottom": null,
      "display": null,
      "flex": null,
      "flex_flow": null,
      "grid_area": null,
      "grid_auto_columns": null,
      "grid_auto_flow": null,
      "grid_auto_rows": null,
      "grid_column": null,
      "grid_gap": null,
      "grid_row": null,
      "grid_template_areas": null,
      "grid_template_columns": null,
      "grid_template_rows": null,
      "height": null,
      "justify_content": null,
      "justify_items": null,
      "left": null,
      "margin": null,
      "max_height": null,
      "max_width": null,
      "min_height": null,
      "min_width": null,
      "object_fit": null,
      "object_position": null,
      "order": null,
      "overflow": null,
      "overflow_x": null,
      "overflow_y": null,
      "padding": null,
      "right": null,
      "top": null,
      "visibility": null,
      "width": null
     }
    },
    "c77e1c356a7a445f9aa0794e0cdacfab": {
     "model_module": "@jupyter-widgets/base",
     "model_module_version": "1.2.0",
     "model_name": "LayoutModel",
     "state": {
      "_model_module": "@jupyter-widgets/base",
      "_model_module_version": "1.2.0",
      "_model_name": "LayoutModel",
      "_view_count": null,
      "_view_module": "@jupyter-widgets/base",
      "_view_module_version": "1.2.0",
      "_view_name": "LayoutView",
      "align_content": null,
      "align_items": null,
      "align_self": null,
      "border": null,
      "bottom": null,
      "display": null,
      "flex": null,
      "flex_flow": null,
      "grid_area": null,
      "grid_auto_columns": null,
      "grid_auto_flow": null,
      "grid_auto_rows": null,
      "grid_column": null,
      "grid_gap": null,
      "grid_row": null,
      "grid_template_areas": null,
      "grid_template_columns": null,
      "grid_template_rows": null,
      "height": null,
      "justify_content": null,
      "justify_items": null,
      "left": null,
      "margin": null,
      "max_height": null,
      "max_width": null,
      "min_height": null,
      "min_width": null,
      "object_fit": null,
      "object_position": null,
      "order": null,
      "overflow": null,
      "overflow_x": null,
      "overflow_y": null,
      "padding": null,
      "right": null,
      "top": null,
      "visibility": null,
      "width": null
     }
    },
    "d0148c5ef31346fbb1d58a2074d21faf": {
     "model_module": "@jupyter-widgets/controls",
     "model_module_version": "1.5.0",
     "model_name": "DescriptionStyleModel",
     "state": {
      "_model_module": "@jupyter-widgets/controls",
      "_model_module_version": "1.5.0",
      "_model_name": "DescriptionStyleModel",
      "_view_count": null,
      "_view_module": "@jupyter-widgets/base",
      "_view_module_version": "1.2.0",
      "_view_name": "StyleView",
      "description_width": ""
     }
    },
    "d1f26dcc1d8846ada6cd4f2f401a63fe": {
     "model_module": "@jupyter-widgets/base",
     "model_module_version": "1.2.0",
     "model_name": "LayoutModel",
     "state": {
      "_model_module": "@jupyter-widgets/base",
      "_model_module_version": "1.2.0",
      "_model_name": "LayoutModel",
      "_view_count": null,
      "_view_module": "@jupyter-widgets/base",
      "_view_module_version": "1.2.0",
      "_view_name": "LayoutView",
      "align_content": null,
      "align_items": null,
      "align_self": null,
      "border": null,
      "bottom": null,
      "display": null,
      "flex": null,
      "flex_flow": null,
      "grid_area": null,
      "grid_auto_columns": null,
      "grid_auto_flow": null,
      "grid_auto_rows": null,
      "grid_column": null,
      "grid_gap": null,
      "grid_row": null,
      "grid_template_areas": null,
      "grid_template_columns": null,
      "grid_template_rows": null,
      "height": null,
      "justify_content": null,
      "justify_items": null,
      "left": null,
      "margin": null,
      "max_height": null,
      "max_width": null,
      "min_height": null,
      "min_width": null,
      "object_fit": null,
      "object_position": null,
      "order": null,
      "overflow": null,
      "overflow_x": null,
      "overflow_y": null,
      "padding": null,
      "right": null,
      "top": null,
      "visibility": null,
      "width": null
     }
    },
    "da5d560b02954f04985aab5d31af6ba7": {
     "model_module": "@jupyter-widgets/controls",
     "model_module_version": "1.5.0",
     "model_name": "HTMLModel",
     "state": {
      "_dom_classes": [],
      "_model_module": "@jupyter-widgets/controls",
      "_model_module_version": "1.5.0",
      "_model_name": "HTMLModel",
      "_view_count": null,
      "_view_module": "@jupyter-widgets/controls",
      "_view_module_version": "1.5.0",
      "_view_name": "HTMLView",
      "description": "",
      "description_tooltip": null,
      "layout": "IPY_MODEL_59df57c490694997a37d5491b41fcaa2",
      "placeholder": "​",
      "style": "IPY_MODEL_f6d406b232c64239b4b3b1d8195e31d9",
      "value": " 625/625 [00:00&lt;00:00, 5.22kB/s]"
     }
    },
    "df7ad42ede8f4a2bbfad21d7443cdc23": {
     "model_module": "@jupyter-widgets/controls",
     "model_module_version": "1.5.0",
     "model_name": "DescriptionStyleModel",
     "state": {
      "_model_module": "@jupyter-widgets/controls",
      "_model_module_version": "1.5.0",
      "_model_name": "DescriptionStyleModel",
      "_view_count": null,
      "_view_module": "@jupyter-widgets/base",
      "_view_module_version": "1.2.0",
      "_view_name": "StyleView",
      "description_width": ""
     }
    },
    "e016d41e48c844aea0a4a67a75458102": {
     "model_module": "@jupyter-widgets/controls",
     "model_module_version": "1.5.0",
     "model_name": "DescriptionStyleModel",
     "state": {
      "_model_module": "@jupyter-widgets/controls",
      "_model_module_version": "1.5.0",
      "_model_name": "DescriptionStyleModel",
      "_view_count": null,
      "_view_module": "@jupyter-widgets/base",
      "_view_module_version": "1.2.0",
      "_view_name": "StyleView",
      "description_width": ""
     }
    },
    "e71165ad05bb4a11a5abd4d38b65e42f": {
     "model_module": "@jupyter-widgets/base",
     "model_module_version": "1.2.0",
     "model_name": "LayoutModel",
     "state": {
      "_model_module": "@jupyter-widgets/base",
      "_model_module_version": "1.2.0",
      "_model_name": "LayoutModel",
      "_view_count": null,
      "_view_module": "@jupyter-widgets/base",
      "_view_module_version": "1.2.0",
      "_view_name": "LayoutView",
      "align_content": null,
      "align_items": null,
      "align_self": null,
      "border": null,
      "bottom": null,
      "display": null,
      "flex": null,
      "flex_flow": null,
      "grid_area": null,
      "grid_auto_columns": null,
      "grid_auto_flow": null,
      "grid_auto_rows": null,
      "grid_column": null,
      "grid_gap": null,
      "grid_row": null,
      "grid_template_areas": null,
      "grid_template_columns": null,
      "grid_template_rows": null,
      "height": null,
      "justify_content": null,
      "justify_items": null,
      "left": null,
      "margin": null,
      "max_height": null,
      "max_width": null,
      "min_height": null,
      "min_width": null,
      "object_fit": null,
      "object_position": null,
      "order": null,
      "overflow": null,
      "overflow_x": null,
      "overflow_y": null,
      "padding": null,
      "right": null,
      "top": null,
      "visibility": null,
      "width": null
     }
    },
    "f1aab3259d854913a449f10dd43b191b": {
     "model_module": "@jupyter-widgets/controls",
     "model_module_version": "1.5.0",
     "model_name": "DescriptionStyleModel",
     "state": {
      "_model_module": "@jupyter-widgets/controls",
      "_model_module_version": "1.5.0",
      "_model_name": "DescriptionStyleModel",
      "_view_count": null,
      "_view_module": "@jupyter-widgets/base",
      "_view_module_version": "1.2.0",
      "_view_name": "StyleView",
      "description_width": ""
     }
    },
    "f26df8854a4a40c092806a73b0559047": {
     "model_module": "@jupyter-widgets/controls",
     "model_module_version": "1.5.0",
     "model_name": "HBoxModel",
     "state": {
      "_dom_classes": [],
      "_model_module": "@jupyter-widgets/controls",
      "_model_module_version": "1.5.0",
      "_model_name": "HBoxModel",
      "_view_count": null,
      "_view_module": "@jupyter-widgets/controls",
      "_view_module_version": "1.5.0",
      "_view_name": "HBoxView",
      "box_style": "",
      "children": [
       "IPY_MODEL_6f7c7a3bb65c49ccb47f14b8cf10e6ad",
       "IPY_MODEL_895cdf572bd04187b65174bc73667044",
       "IPY_MODEL_90a79d6444fc4dfaba0e99e1fd80ea85"
      ],
      "layout": "IPY_MODEL_0673c0e4c9c046a99af9f27433ba1752"
     }
    },
    "f6d406b232c64239b4b3b1d8195e31d9": {
     "model_module": "@jupyter-widgets/controls",
     "model_module_version": "1.5.0",
     "model_name": "DescriptionStyleModel",
     "state": {
      "_model_module": "@jupyter-widgets/controls",
      "_model_module_version": "1.5.0",
      "_model_name": "DescriptionStyleModel",
      "_view_count": null,
      "_view_module": "@jupyter-widgets/base",
      "_view_module_version": "1.2.0",
      "_view_name": "StyleView",
      "description_width": ""
     }
    },
    "fd33bd7f1fa743b0bcb6e0c6d2856f72": {
     "model_module": "@jupyter-widgets/controls",
     "model_module_version": "1.5.0",
     "model_name": "ProgressStyleModel",
     "state": {
      "_model_module": "@jupyter-widgets/controls",
      "_model_module_version": "1.5.0",
      "_model_name": "ProgressStyleModel",
      "_view_count": null,
      "_view_module": "@jupyter-widgets/base",
      "_view_module_version": "1.2.0",
      "_view_name": "StyleView",
      "bar_color": null,
      "description_width": ""
     }
    }
   }
  }
 },
 "nbformat": 4,
 "nbformat_minor": 4
}
